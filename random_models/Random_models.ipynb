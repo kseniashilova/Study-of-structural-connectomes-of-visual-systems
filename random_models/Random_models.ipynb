{
  "nbformat": 4,
  "nbformat_minor": 0,
  "metadata": {
    "colab": {
      "name": "Random-models.ipynb\"",
      "provenance": [],
      "collapsed_sections": [
        "fMcGnv_ZFjCu",
        "eHqmRRdDGRgw",
        "1o61KMTZWLIV",
        "elT0Wef8lZvn",
        "c4t7LRGKu0VX",
        "ebrz9iEvzV07"
      ]
    },
    "kernelspec": {
      "name": "python3",
      "display_name": "Python 3"
    },
    "language_info": {
      "name": "python"
    }
  },
  "cells": [
    {
      "cell_type": "code",
      "execution_count": 2,
      "metadata": {
        "id": "30FzX231pA_5"
      },
      "outputs": [],
      "source": [
        "import pandas as pd\n",
        "import numpy as np\n",
        "import networkx as nx\n",
        "import matplotlib.pyplot as plt\n"
      ]
    },
    {
      "cell_type": "markdown",
      "source": [
        "# Models of random graphs"
      ],
      "metadata": {
        "id": "fMcGnv_ZFjCu"
      }
    },
    {
      "cell_type": "markdown",
      "source": [
        "## Erdos-Renyi model"
      ],
      "metadata": {
        "id": "JSd-AXm1pRqd"
      }
    },
    {
      "cell_type": "code",
      "source": [
        "def get_erdos_renyi_graph(n, edge_density, weights):\n",
        "  # n points\n",
        "  lst = []\n",
        "  for i in range(1, n+1):\n",
        "    for j in range(1, i):\n",
        "      if np.random.rand() < edge_density:\n",
        "        # there is an edge between i and j, and the weight (distance)\n",
        "        lst.append([i,j, np.random.choice(weights)])\n",
        "  return lst"
      ],
      "metadata": {
        "id": "-yKf2mkwpQ_W"
      },
      "execution_count": 3,
      "outputs": []
    },
    {
      "cell_type": "markdown",
      "source": [
        "## Geometric model"
      ],
      "metadata": {
        "id": "thkG19Thvy_M"
      }
    },
    {
      "cell_type": "code",
      "source": [
        "def get_geometric_graph(n, treshold, edge_density):\n",
        "  # n points\n",
        "  lst = []\n",
        "  for i in range(1, n+1):\n",
        "    for j in range(1, i):\n",
        "      w = np.random.randint(int(treshold/edge_density))\n",
        "      if w < treshold:\n",
        "        # there is an edge between i and j, and the weight (distance)\n",
        "        lst.append([i,j,w])\n",
        "  return lst"
      ],
      "metadata": {
        "id": "ch7FGWWLsBdZ"
      },
      "execution_count": 4,
      "outputs": []
    },
    {
      "cell_type": "markdown",
      "source": [
        "## Barabasi-Albert model"
      ],
      "metadata": {
        "id": "TitbwTqvw3F4"
      }
    },
    {
      "cell_type": "code",
      "source": [
        "def get_barabasi_albert_graph(n, weights):\n",
        "  # m - first placed nodes\n",
        "  m = 2\n",
        "  # the m points are randomly placed in the 3 dim space\n",
        "  points = np.random.rand(m, 3)\n",
        "  lst = [[1, 2, np.random.choice(weights)]]\n",
        "  # 1 and 2 nodes\n",
        "  degrees = np.array([1,1]) \n",
        "  # probabilities to have a connection with a new node\n",
        "  probs = degrees/np.sum(degrees)\n",
        "  # 1,2 - are exist in the space\n",
        "  for i in range(3, n+1):\n",
        "    points = np.append(points, [np.random.rand(3)], axis = 0)\n",
        "    degrees = np.append(degrees, 0)\n",
        "    # let us select m = 2 nodes to connect\n",
        "    nodes_to_connect = np.random.choice(range(1, i),size=2,replace=False, p=probs)\n",
        "    for j in nodes_to_connect:\n",
        "      # there is an edge between j, i\n",
        "      lst.append([j, i, np.random.choice(weights)])\n",
        "      degrees[j - 1] += 1\n",
        "      degrees[i - 1] += 1\n",
        "    # recalculate probs\n",
        "    probs = degrees/np.sum(degrees)\n",
        "  \n",
        "  return lst"
      ],
      "metadata": {
        "id": "hAxGCgjnw0Db"
      },
      "execution_count": 5,
      "outputs": []
    },
    {
      "cell_type": "markdown",
      "source": [
        "## Chung Lu model"
      ],
      "metadata": {
        "id": "QpSHqV4v6B-0"
      }
    },
    {
      "cell_type": "code",
      "source": [
        "def get_chung_lu_graph(w, weights):\n",
        "  n = len(w)\n",
        "  sum_w = np.sum(np.array(w))\n",
        "  # n points\n",
        "  lst = []\n",
        "  for i in range(1, n+1):\n",
        "    for j in range(1, i):\n",
        "      weight = np.random.choice(weights)\n",
        "      if np.random.rand() < w[i - 1]*w[j - 1]/sum_w:\n",
        "        # there is an edge between i and j, and the weight (distance)\n",
        "        lst.append([i,j,weight])\n",
        "  return lst"
      ],
      "metadata": {
        "id": "hL6yX7TioeYP"
      },
      "execution_count": 6,
      "outputs": []
    },
    {
      "cell_type": "markdown",
      "source": [
        "## Geometric Chung Lu model"
      ],
      "metadata": {
        "id": "bj0SWXyJ7QE9"
      }
    },
    {
      "cell_type": "code",
      "source": [
        "def get_geometric_chung_lu_graph(w, weights):\n",
        "  # w - the vector of nodes expected degrees\n",
        "  # f - function (list opairs {x, y}) of the probability that two vertices \n",
        "  # are adjacent with the condition that they are within a certain distance (x) from each other\n",
        "  n = len(w)\n",
        "  sum_w = np.sum(np.array(w))\n",
        "  # n points\n",
        "  lst = []\n",
        "  for i in range(1, n+1):\n",
        "    for j in range(1, i):\n",
        "      weight = np.random.choice(weights)\n",
        "      if np.random.rand() < (w[i - 1] * w[j - 1]/sum_w) / weight:\n",
        "        # there is an edge between i and j, and the weight (distance)\n",
        "        lst.append([i,j,weight])\n",
        "  return lst"
      ],
      "metadata": {
        "id": "Sh4-CF82634W"
      },
      "execution_count": 7,
      "outputs": []
    },
    {
      "cell_type": "markdown",
      "source": [
        "# Parameters"
      ],
      "metadata": {
        "id": "eHqmRRdDGRgw"
      }
    },
    {
      "cell_type": "markdown",
      "source": [
        "## Edge density"
      ],
      "metadata": {
        "id": "RDwLeUL_GWOf"
      }
    },
    {
      "cell_type": "code",
      "source": [
        "def calculate_edge_density(G):\n",
        "  # G - nx Graph\n",
        "  return 2*len(G.edges()) / (len(G.nodes)*(len(G.nodes)-1))"
      ],
      "metadata": {
        "id": "hQoScpniGTgH"
      },
      "execution_count": 8,
      "outputs": []
    },
    {
      "cell_type": "markdown",
      "source": [
        "## Number of connected components"
      ],
      "metadata": {
        "id": "BUkt26X9HfZd"
      }
    },
    {
      "cell_type": "code",
      "source": [
        "from networkx.algorithms.components.connected import connected_components"
      ],
      "metadata": {
        "id": "atU68XViUoGl"
      },
      "execution_count": 9,
      "outputs": []
    },
    {
      "cell_type": "code",
      "source": [
        "def calculate_number_of_connected_components(G):\n",
        "  comp_vector = [len(c) for c in sorted(nx.connected_components(G), key=len, reverse=True)]\n",
        "  return len(comp_vector)"
      ],
      "metadata": {
        "id": "9FQ94kZMHdif"
      },
      "execution_count": 10,
      "outputs": []
    },
    {
      "cell_type": "markdown",
      "source": [
        "## Degrees vector"
      ],
      "metadata": {
        "id": "hkJNFyaKVmKH"
      }
    },
    {
      "cell_type": "code",
      "source": [
        "def calculate_degrees_vector(G):\n",
        "  return [G.degree(n) for n in G.nodes()]"
      ],
      "metadata": {
        "id": "i6KwIK0MVjH2"
      },
      "execution_count": 11,
      "outputs": []
    },
    {
      "cell_type": "markdown",
      "source": [
        "## Triangles"
      ],
      "metadata": {
        "id": "vHX6dlfJWUJK"
      }
    },
    {
      "cell_type": "code",
      "source": [
        "def calculate_triangles_amount(G):\n",
        "  return sum(nx.triangles(G).values()) / 3"
      ],
      "metadata": {
        "id": "3qLJwv5BWQsy"
      },
      "execution_count": 12,
      "outputs": []
    },
    {
      "cell_type": "markdown",
      "source": [
        "## Clustering coeff"
      ],
      "metadata": {
        "id": "eJa_nQX0W3N6"
      }
    },
    {
      "cell_type": "code",
      "source": [
        "def calculate_clustering_coeff(G):\n",
        "  return sum(nx.clustering(G).values())/len(G.nodes())"
      ],
      "metadata": {
        "id": "4x5xDo1dW0B2"
      },
      "execution_count": 13,
      "outputs": []
    },
    {
      "cell_type": "markdown",
      "source": [
        "## Page Ranks"
      ],
      "metadata": {
        "id": "RI3aM1CbZLu2"
      }
    },
    {
      "cell_type": "code",
      "source": [
        "def calculate_page_rank_vector(G, iter_num):\n",
        "  n = len(G.nodes())\n",
        "\n",
        "\n",
        "  # adjacency matrix\n",
        "  A = nx.adjacency_matrix(G).todense()\n",
        "  indexes = np.nonzero(A)\n",
        "  A[indexes[0], indexes[1]] = 1\n",
        "  A = np.array(A)\n",
        "\n",
        "\n",
        "  # P matrix\n",
        "  P = np.zeros((n, n))\n",
        "\n",
        "  for i in range(0,n):\n",
        "    for j in range(0,n):\n",
        "        P[j][i] = A[i][j]/A[i].sum()\n",
        "\n",
        "  # Q matrix \n",
        "  # (np.zeros((n,n)) + 1) - matrix with 1 elements\n",
        "  Q = 0.85*P + 0.15/n * (np.zeros((n,n)) + 1)\n",
        "\n",
        "  # approximation\n",
        "  x = np.zeros(n) + 1/n\n",
        "  for i in range(iter_num):\n",
        "    x = Q @ x\n",
        "  return x"
      ],
      "metadata": {
        "id": "i_nBCEGLZRcz"
      },
      "execution_count": 14,
      "outputs": []
    },
    {
      "cell_type": "markdown",
      "source": [
        "## Eigenvalues"
      ],
      "metadata": {
        "id": "1FXAUtR2ePDf"
      }
    },
    {
      "cell_type": "code",
      "source": [
        "def calculate_eigenvalues_of_adj_matrix(G):\n",
        "  n = len(G.nodes())\n",
        "\n",
        "  # adjacency matrix\n",
        "  A = nx.adjacency_matrix(G).todense()\n",
        "  A = np.array(A)\n",
        "  return np.linalg.eig(A)[0]"
      ],
      "metadata": {
        "id": "D_O85nwTeQ5q"
      },
      "execution_count": 15,
      "outputs": []
    },
    {
      "cell_type": "markdown",
      "source": [
        "## Weights vector"
      ],
      "metadata": {
        "id": "637Jb9hfYP0Q"
      }
    },
    {
      "cell_type": "code",
      "source": [
        "def calculate_vector_of_weights(G):\n",
        "  return list(nx.get_edge_attributes(G,'weight').values())"
      ],
      "metadata": {
        "id": "rhmtlGGQYLKe"
      },
      "execution_count": 16,
      "outputs": []
    },
    {
      "cell_type": "markdown",
      "source": [
        "# Reference Graph 1 (simple exmple - c.elegans connectome)"
      ],
      "metadata": {
        "id": "1o61KMTZWLIV"
      }
    },
    {
      "cell_type": "code",
      "source": [
        "celegans = pd.read_csv('optic_edges2.txt', delimiter=' ', names = ['from', 'to', 'str','weight'])\n",
        "celegans = celegans[celegans['from'] != celegans['to']] # без петель\n",
        "celegans = celegans.drop('str', 1) # удалим столбец\n",
        "celegans"
      ],
      "metadata": {
        "colab": {
          "base_uri": "https://localhost:8080/"
        },
        "id": "RInLQr10R1ZN",
        "outputId": "b1cea83e-1b5a-4c66-a987-79166b5b57f9"
      },
      "execution_count": null,
      "outputs": [
        {
          "output_type": "execute_result",
          "data": {
            "text/html": [
              "\n",
              "  <div id=\"df-054f6d08-7bcc-4c05-a7e4-4f979cb4e102\">\n",
              "    <div class=\"colab-df-container\">\n",
              "      <div>\n",
              "<style scoped>\n",
              "    .dataframe tbody tr th:only-of-type {\n",
              "        vertical-align: middle;\n",
              "    }\n",
              "\n",
              "    .dataframe tbody tr th {\n",
              "        vertical-align: top;\n",
              "    }\n",
              "\n",
              "    .dataframe thead th {\n",
              "        text-align: right;\n",
              "    }\n",
              "</style>\n",
              "<table border=\"1\" class=\"dataframe\">\n",
              "  <thead>\n",
              "    <tr style=\"text-align: right;\">\n",
              "      <th></th>\n",
              "      <th>from</th>\n",
              "      <th>to</th>\n",
              "      <th>weight</th>\n",
              "    </tr>\n",
              "  </thead>\n",
              "  <tbody>\n",
              "    <tr>\n",
              "      <th>0</th>\n",
              "      <td>I1L</td>\n",
              "      <td>I6</td>\n",
              "      <td>1</td>\n",
              "    </tr>\n",
              "    <tr>\n",
              "      <th>1</th>\n",
              "      <td>I1L</td>\n",
              "      <td>pm4D</td>\n",
              "      <td>1</td>\n",
              "    </tr>\n",
              "    <tr>\n",
              "      <th>2</th>\n",
              "      <td>I1R</td>\n",
              "      <td>I3</td>\n",
              "      <td>1</td>\n",
              "    </tr>\n",
              "    <tr>\n",
              "      <th>3</th>\n",
              "      <td>I1R</td>\n",
              "      <td>M1</td>\n",
              "      <td>1</td>\n",
              "    </tr>\n",
              "    <tr>\n",
              "      <th>4</th>\n",
              "      <td>I1R</td>\n",
              "      <td>M2L</td>\n",
              "      <td>1</td>\n",
              "    </tr>\n",
              "    <tr>\n",
              "      <th>...</th>\n",
              "      <td>...</td>\n",
              "      <td>...</td>\n",
              "      <td>...</td>\n",
              "    </tr>\n",
              "    <tr>\n",
              "      <th>5301</th>\n",
              "      <td>AIYR</td>\n",
              "      <td>AIZR</td>\n",
              "      <td>152</td>\n",
              "    </tr>\n",
              "    <tr>\n",
              "      <th>5302</th>\n",
              "      <td>AIYL</td>\n",
              "      <td>AIZL</td>\n",
              "      <td>157</td>\n",
              "    </tr>\n",
              "    <tr>\n",
              "      <th>5303</th>\n",
              "      <td>PCAR</td>\n",
              "      <td>PVX</td>\n",
              "      <td>160</td>\n",
              "    </tr>\n",
              "    <tr>\n",
              "      <th>5304</th>\n",
              "      <td>AIYL</td>\n",
              "      <td>RIAL</td>\n",
              "      <td>171</td>\n",
              "    </tr>\n",
              "    <tr>\n",
              "      <th>5305</th>\n",
              "      <td>CP09</td>\n",
              "      <td>PVV</td>\n",
              "      <td>194</td>\n",
              "    </tr>\n",
              "  </tbody>\n",
              "</table>\n",
              "<p>5246 rows × 3 columns</p>\n",
              "</div>\n",
              "      <button class=\"colab-df-convert\" onclick=\"convertToInteractive('df-054f6d08-7bcc-4c05-a7e4-4f979cb4e102')\"\n",
              "              title=\"Convert this dataframe to an interactive table.\"\n",
              "              style=\"display:none;\">\n",
              "        \n",
              "  <svg xmlns=\"http://www.w3.org/2000/svg\" height=\"24px\"viewBox=\"0 0 24 24\"\n",
              "       width=\"24px\">\n",
              "    <path d=\"M0 0h24v24H0V0z\" fill=\"none\"/>\n",
              "    <path d=\"M18.56 5.44l.94 2.06.94-2.06 2.06-.94-2.06-.94-.94-2.06-.94 2.06-2.06.94zm-11 1L8.5 8.5l.94-2.06 2.06-.94-2.06-.94L8.5 2.5l-.94 2.06-2.06.94zm10 10l.94 2.06.94-2.06 2.06-.94-2.06-.94-.94-2.06-.94 2.06-2.06.94z\"/><path d=\"M17.41 7.96l-1.37-1.37c-.4-.4-.92-.59-1.43-.59-.52 0-1.04.2-1.43.59L10.3 9.45l-7.72 7.72c-.78.78-.78 2.05 0 2.83L4 21.41c.39.39.9.59 1.41.59.51 0 1.02-.2 1.41-.59l7.78-7.78 2.81-2.81c.8-.78.8-2.07 0-2.86zM5.41 20L4 18.59l7.72-7.72 1.47 1.35L5.41 20z\"/>\n",
              "  </svg>\n",
              "      </button>\n",
              "      \n",
              "  <style>\n",
              "    .colab-df-container {\n",
              "      display:flex;\n",
              "      flex-wrap:wrap;\n",
              "      gap: 12px;\n",
              "    }\n",
              "\n",
              "    .colab-df-convert {\n",
              "      background-color: #E8F0FE;\n",
              "      border: none;\n",
              "      border-radius: 50%;\n",
              "      cursor: pointer;\n",
              "      display: none;\n",
              "      fill: #1967D2;\n",
              "      height: 32px;\n",
              "      padding: 0 0 0 0;\n",
              "      width: 32px;\n",
              "    }\n",
              "\n",
              "    .colab-df-convert:hover {\n",
              "      background-color: #E2EBFA;\n",
              "      box-shadow: 0px 1px 2px rgba(60, 64, 67, 0.3), 0px 1px 3px 1px rgba(60, 64, 67, 0.15);\n",
              "      fill: #174EA6;\n",
              "    }\n",
              "\n",
              "    [theme=dark] .colab-df-convert {\n",
              "      background-color: #3B4455;\n",
              "      fill: #D2E3FC;\n",
              "    }\n",
              "\n",
              "    [theme=dark] .colab-df-convert:hover {\n",
              "      background-color: #434B5C;\n",
              "      box-shadow: 0px 1px 3px 1px rgba(0, 0, 0, 0.15);\n",
              "      filter: drop-shadow(0px 1px 2px rgba(0, 0, 0, 0.3));\n",
              "      fill: #FFFFFF;\n",
              "    }\n",
              "  </style>\n",
              "\n",
              "      <script>\n",
              "        const buttonEl =\n",
              "          document.querySelector('#df-054f6d08-7bcc-4c05-a7e4-4f979cb4e102 button.colab-df-convert');\n",
              "        buttonEl.style.display =\n",
              "          google.colab.kernel.accessAllowed ? 'block' : 'none';\n",
              "\n",
              "        async function convertToInteractive(key) {\n",
              "          const element = document.querySelector('#df-054f6d08-7bcc-4c05-a7e4-4f979cb4e102');\n",
              "          const dataTable =\n",
              "            await google.colab.kernel.invokeFunction('convertToInteractive',\n",
              "                                                     [key], {});\n",
              "          if (!dataTable) return;\n",
              "\n",
              "          const docLinkHtml = 'Like what you see? Visit the ' +\n",
              "            '<a target=\"_blank\" href=https://colab.research.google.com/notebooks/data_table.ipynb>data table notebook</a>'\n",
              "            + ' to learn more about interactive tables.';\n",
              "          element.innerHTML = '';\n",
              "          dataTable['output_type'] = 'display_data';\n",
              "          await google.colab.output.renderOutput(dataTable, element);\n",
              "          const docLink = document.createElement('div');\n",
              "          docLink.innerHTML = docLinkHtml;\n",
              "          element.appendChild(docLink);\n",
              "        }\n",
              "      </script>\n",
              "    </div>\n",
              "  </div>\n",
              "  "
            ],
            "text/plain": [
              "      from    to  weight\n",
              "0      I1L    I6       1\n",
              "1      I1L  pm4D       1\n",
              "2      I1R    I3       1\n",
              "3      I1R    M1       1\n",
              "4      I1R   M2L       1\n",
              "...    ...   ...     ...\n",
              "5301  AIYR  AIZR     152\n",
              "5302  AIYL  AIZL     157\n",
              "5303  PCAR   PVX     160\n",
              "5304  AIYL  RIAL     171\n",
              "5305  CP09   PVV     194\n",
              "\n",
              "[5246 rows x 3 columns]"
            ]
          },
          "metadata": {},
          "execution_count": 63
        }
      ]
    },
    {
      "cell_type": "code",
      "source": [
        "G_ref=nx.Graph()\n",
        "G_ref.add_weighted_edges_from(celegans.values)"
      ],
      "metadata": {
        "id": "zG5r0GhLWrvZ"
      },
      "execution_count": null,
      "outputs": []
    },
    {
      "cell_type": "markdown",
      "source": [
        "# Reference Graph Medulla"
      ],
      "metadata": {
        "id": "elT0Wef8lZvn"
      }
    },
    {
      "cell_type": "code",
      "source": [
        "optic_graph = pd.read_csv('optic_edges2.txt', delimiter=' ', names = ['from', 'to', 'region','weight'])\n",
        "#medulla = optic_graph[optic_graph['region'] == 'ME(R)'] # только medulla\n",
        "optic_graph = optic_graph[optic_graph['from'] != optic_graph['to']] # без петель\n",
        "optic_graph = optic_graph.drop('region', 1) # удалим столбец\n",
        "optic_graph"
      ],
      "metadata": {
        "colab": {
          "base_uri": "https://localhost:8080/",
          "height": 478
        },
        "id": "sS-9iAxAt8cz",
        "outputId": "5af2ca73-a741-4501-b449-8da31c374568"
      },
      "execution_count": 17,
      "outputs": [
        {
          "output_type": "stream",
          "name": "stderr",
          "text": [
            "/usr/local/lib/python3.7/dist-packages/ipykernel_launcher.py:4: FutureWarning: In a future version of pandas all arguments of DataFrame.drop except for the argument 'labels' will be keyword-only\n",
            "  after removing the cwd from sys.path.\n"
          ]
        },
        {
          "output_type": "execute_result",
          "data": {
            "text/plain": [
              "              from          to  weight\n",
              "0        264083994   390356988       1\n",
              "1        264083994  1096859621       1\n",
              "2        264083994  5813021485       1\n",
              "3        264083994  5813057153       1\n",
              "4        297572076   575063620       1\n",
              "...            ...         ...     ...\n",
              "101178  2124762952  1936507376     377\n",
              "101179  2124762952  1748929680     401\n",
              "101180  5813061218  1343403608     562\n",
              "101181  1873086710  1343403608     692\n",
              "101182  5813061218  2124762952     793\n",
              "\n",
              "[101183 rows x 3 columns]"
            ],
            "text/html": [
              "\n",
              "  <div id=\"df-870a44e9-f704-486f-a398-244f6c8e8cc5\">\n",
              "    <div class=\"colab-df-container\">\n",
              "      <div>\n",
              "<style scoped>\n",
              "    .dataframe tbody tr th:only-of-type {\n",
              "        vertical-align: middle;\n",
              "    }\n",
              "\n",
              "    .dataframe tbody tr th {\n",
              "        vertical-align: top;\n",
              "    }\n",
              "\n",
              "    .dataframe thead th {\n",
              "        text-align: right;\n",
              "    }\n",
              "</style>\n",
              "<table border=\"1\" class=\"dataframe\">\n",
              "  <thead>\n",
              "    <tr style=\"text-align: right;\">\n",
              "      <th></th>\n",
              "      <th>from</th>\n",
              "      <th>to</th>\n",
              "      <th>weight</th>\n",
              "    </tr>\n",
              "  </thead>\n",
              "  <tbody>\n",
              "    <tr>\n",
              "      <th>0</th>\n",
              "      <td>264083994</td>\n",
              "      <td>390356988</td>\n",
              "      <td>1</td>\n",
              "    </tr>\n",
              "    <tr>\n",
              "      <th>1</th>\n",
              "      <td>264083994</td>\n",
              "      <td>1096859621</td>\n",
              "      <td>1</td>\n",
              "    </tr>\n",
              "    <tr>\n",
              "      <th>2</th>\n",
              "      <td>264083994</td>\n",
              "      <td>5813021485</td>\n",
              "      <td>1</td>\n",
              "    </tr>\n",
              "    <tr>\n",
              "      <th>3</th>\n",
              "      <td>264083994</td>\n",
              "      <td>5813057153</td>\n",
              "      <td>1</td>\n",
              "    </tr>\n",
              "    <tr>\n",
              "      <th>4</th>\n",
              "      <td>297572076</td>\n",
              "      <td>575063620</td>\n",
              "      <td>1</td>\n",
              "    </tr>\n",
              "    <tr>\n",
              "      <th>...</th>\n",
              "      <td>...</td>\n",
              "      <td>...</td>\n",
              "      <td>...</td>\n",
              "    </tr>\n",
              "    <tr>\n",
              "      <th>101178</th>\n",
              "      <td>2124762952</td>\n",
              "      <td>1936507376</td>\n",
              "      <td>377</td>\n",
              "    </tr>\n",
              "    <tr>\n",
              "      <th>101179</th>\n",
              "      <td>2124762952</td>\n",
              "      <td>1748929680</td>\n",
              "      <td>401</td>\n",
              "    </tr>\n",
              "    <tr>\n",
              "      <th>101180</th>\n",
              "      <td>5813061218</td>\n",
              "      <td>1343403608</td>\n",
              "      <td>562</td>\n",
              "    </tr>\n",
              "    <tr>\n",
              "      <th>101181</th>\n",
              "      <td>1873086710</td>\n",
              "      <td>1343403608</td>\n",
              "      <td>692</td>\n",
              "    </tr>\n",
              "    <tr>\n",
              "      <th>101182</th>\n",
              "      <td>5813061218</td>\n",
              "      <td>2124762952</td>\n",
              "      <td>793</td>\n",
              "    </tr>\n",
              "  </tbody>\n",
              "</table>\n",
              "<p>101183 rows × 3 columns</p>\n",
              "</div>\n",
              "      <button class=\"colab-df-convert\" onclick=\"convertToInteractive('df-870a44e9-f704-486f-a398-244f6c8e8cc5')\"\n",
              "              title=\"Convert this dataframe to an interactive table.\"\n",
              "              style=\"display:none;\">\n",
              "        \n",
              "  <svg xmlns=\"http://www.w3.org/2000/svg\" height=\"24px\"viewBox=\"0 0 24 24\"\n",
              "       width=\"24px\">\n",
              "    <path d=\"M0 0h24v24H0V0z\" fill=\"none\"/>\n",
              "    <path d=\"M18.56 5.44l.94 2.06.94-2.06 2.06-.94-2.06-.94-.94-2.06-.94 2.06-2.06.94zm-11 1L8.5 8.5l.94-2.06 2.06-.94-2.06-.94L8.5 2.5l-.94 2.06-2.06.94zm10 10l.94 2.06.94-2.06 2.06-.94-2.06-.94-.94-2.06-.94 2.06-2.06.94z\"/><path d=\"M17.41 7.96l-1.37-1.37c-.4-.4-.92-.59-1.43-.59-.52 0-1.04.2-1.43.59L10.3 9.45l-7.72 7.72c-.78.78-.78 2.05 0 2.83L4 21.41c.39.39.9.59 1.41.59.51 0 1.02-.2 1.41-.59l7.78-7.78 2.81-2.81c.8-.78.8-2.07 0-2.86zM5.41 20L4 18.59l7.72-7.72 1.47 1.35L5.41 20z\"/>\n",
              "  </svg>\n",
              "      </button>\n",
              "      \n",
              "  <style>\n",
              "    .colab-df-container {\n",
              "      display:flex;\n",
              "      flex-wrap:wrap;\n",
              "      gap: 12px;\n",
              "    }\n",
              "\n",
              "    .colab-df-convert {\n",
              "      background-color: #E8F0FE;\n",
              "      border: none;\n",
              "      border-radius: 50%;\n",
              "      cursor: pointer;\n",
              "      display: none;\n",
              "      fill: #1967D2;\n",
              "      height: 32px;\n",
              "      padding: 0 0 0 0;\n",
              "      width: 32px;\n",
              "    }\n",
              "\n",
              "    .colab-df-convert:hover {\n",
              "      background-color: #E2EBFA;\n",
              "      box-shadow: 0px 1px 2px rgba(60, 64, 67, 0.3), 0px 1px 3px 1px rgba(60, 64, 67, 0.15);\n",
              "      fill: #174EA6;\n",
              "    }\n",
              "\n",
              "    [theme=dark] .colab-df-convert {\n",
              "      background-color: #3B4455;\n",
              "      fill: #D2E3FC;\n",
              "    }\n",
              "\n",
              "    [theme=dark] .colab-df-convert:hover {\n",
              "      background-color: #434B5C;\n",
              "      box-shadow: 0px 1px 3px 1px rgba(0, 0, 0, 0.15);\n",
              "      filter: drop-shadow(0px 1px 2px rgba(0, 0, 0, 0.3));\n",
              "      fill: #FFFFFF;\n",
              "    }\n",
              "  </style>\n",
              "\n",
              "      <script>\n",
              "        const buttonEl =\n",
              "          document.querySelector('#df-870a44e9-f704-486f-a398-244f6c8e8cc5 button.colab-df-convert');\n",
              "        buttonEl.style.display =\n",
              "          google.colab.kernel.accessAllowed ? 'block' : 'none';\n",
              "\n",
              "        async function convertToInteractive(key) {\n",
              "          const element = document.querySelector('#df-870a44e9-f704-486f-a398-244f6c8e8cc5');\n",
              "          const dataTable =\n",
              "            await google.colab.kernel.invokeFunction('convertToInteractive',\n",
              "                                                     [key], {});\n",
              "          if (!dataTable) return;\n",
              "\n",
              "          const docLinkHtml = 'Like what you see? Visit the ' +\n",
              "            '<a target=\"_blank\" href=https://colab.research.google.com/notebooks/data_table.ipynb>data table notebook</a>'\n",
              "            + ' to learn more about interactive tables.';\n",
              "          element.innerHTML = '';\n",
              "          dataTable['output_type'] = 'display_data';\n",
              "          await google.colab.output.renderOutput(dataTable, element);\n",
              "          const docLink = document.createElement('div');\n",
              "          docLink.innerHTML = docLinkHtml;\n",
              "          element.appendChild(docLink);\n",
              "        }\n",
              "      </script>\n",
              "    </div>\n",
              "  </div>\n",
              "  "
            ]
          },
          "metadata": {},
          "execution_count": 17
        }
      ]
    },
    {
      "cell_type": "code",
      "source": [
        "G_ref=nx.Graph()\n",
        "G_ref.add_weighted_edges_from(optic_graph.values)"
      ],
      "metadata": {
        "id": "1DAVnfD43_aW"
      },
      "execution_count": 18,
      "outputs": []
    },
    {
      "cell_type": "code",
      "source": [
        "nx.draw(G_ref, pos=nx.spring_layout(G_ref), node_size=10, width=0.5)"
      ],
      "metadata": {
        "colab": {
          "base_uri": "https://localhost:8080/",
          "height": 319
        },
        "id": "jk4VUcG6mE5W",
        "outputId": "45fa9b63-6e80-4818-9872-1efe6d3d9589"
      },
      "execution_count": 19,
      "outputs": [
        {
          "output_type": "display_data",
          "data": {
            "text/plain": [
              "<Figure size 432x288 with 1 Axes>"
            ],
            "image/png": "[encoded data removed]"
          },
          "metadata": {}
        }
      ]
    },
    {
      "cell_type": "markdown",
      "source": [
        "# Experement"
      ],
      "metadata": {
        "id": "Q2G8gwNr47MQ"
      }
    },
    {
      "cell_type": "code",
      "source": [
        "def estimate_numeric_parameters(G_ref, model, weights):\n",
        "  \n",
        "  \n",
        "  # generate a graph\n",
        "  points, edges = None, None\n",
        "  #weights = calculate_vector_of_weights(G_ref)\n",
        "\n",
        "  if model == 'Erdos-Renyi':\n",
        "    edges = get_erdos_renyi_graph(len(G_ref.nodes), calculate_edge_density(G_ref), weights)\n",
        "\n",
        "  elif model == 'Geometric':\n",
        "    edges = get_geometric_graph(len(G_ref.nodes), np.max(list(nx.get_edge_attributes(G_ref,'weight').values())), calculate_edge_density(G_ref))\n",
        "    \n",
        "  elif model == 'Barabasi-Albert':\n",
        "    edges = get_barabasi_albert_graph(len(G_ref.nodes), weights)\n",
        "\n",
        "  elif model == 'Chung Lu':\n",
        "    edges = get_chung_lu_graph(calculate_degrees_vector(G_ref), weights)\n",
        "    \n",
        "  elif model == 'Geometric Chung Lu':\n",
        "    edges = get_geometric_chung_lu_graph(calculate_degrees_vector(G_ref), weights)\n",
        "\n",
        "  else:\n",
        "    print('Nonexistent model name')\n",
        "    return \n",
        "\n",
        "\n",
        "  G=nx.Graph()\n",
        "  G.add_weighted_edges_from(edges)\n",
        "  print('\\n\\n' + model + ' graph was generated ')\n",
        "\n",
        "\n",
        "  ## Edge density\n",
        "  edge_density_G = calculate_edge_density(G)\n",
        "  #edge_density_G_ref = calculate_edge_density(G_ref)\n",
        "  #print(f'Edge density. G: {edge_density_G}, G_ref: {edge_density_G_ref}')\n",
        "  print(f'Edge density. G: {edge_density_G}')\n",
        "  \n",
        "  ## Number of connected components\n",
        "  comp_G = calculate_number_of_connected_components(G)\n",
        "  #comp_G_ref = calculate_number_of_connected_components(G_ref)\n",
        "  #print(f'Number of connected components. G: {comp_G}, G_ref: {comp_G_ref}')\n",
        "  print(f'Number of connected components. G: {comp_G}')\n",
        "\n",
        "  \n",
        "  ## Triangles amount\n",
        "  triangles_G = calculate_triangles_amount(G)\n",
        "  #triangles_G_ref = calculate_triangles_amount(G_ref)\n",
        "  #print(f'Triangles amount. G: {triangles_G}, G_ref: {triangles_G_ref}')\n",
        "  print(f'Triangles amount. G: {triangles_G}')\n",
        "\n",
        "\n",
        "  ## Clustering coeff\n",
        "  clustering_coeff_G = calculate_clustering_coeff(G)\n",
        "  #clustering_coeff_G_ref = calculate_clustering_coeff(G_ref)\n",
        "  #print(f'Clustering coeff. G: {clustering_coeff_G}, G_ref: {clustering_coeff_G_ref}')\n",
        "  print(f'Clustering coeff. G: {clustering_coeff_G}')\n",
        "\n",
        "  \n",
        "\n",
        "  return np.array([edge_density_G, comp_G, triangles_G, clustering_coeff_G])"
      ],
      "metadata": {
        "id": "qhGcWHVP6oCV"
      },
      "execution_count": 20,
      "outputs": []
    },
    {
      "cell_type": "code",
      "source": [
        "def draw_hist(v_rand, model_name, bins_n=None):\n",
        "  if bins_n is None:\n",
        "     bins_n=len(v_rand)\n",
        "  plt.hist(v_rand, bins=bins_n)\n",
        "  plt.title(model_name)"
      ],
      "metadata": {
        "id": "2zPp-S29zze1"
      },
      "execution_count": 38,
      "outputs": []
    },
    {
      "cell_type": "code",
      "source": [
        "def estimate_vector_parameters(G_ref, model, vector_name, weights):\n",
        "  \n",
        "  # generate a graph\n",
        "  points, edges = None, None\n",
        "  #weights = calculate_vector_of_weights(G_ref)\n",
        "\n",
        "  if model == 'Erdos-Renyi':\n",
        "    edges = get_erdos_renyi_graph(len(G_ref.nodes), calculate_edge_density(G_ref), weights)\n",
        "\n",
        "  elif model == 'Geometric':\n",
        "    edges = get_geometric_graph(len(G_ref.nodes), np.max(list(nx.get_edge_attributes(G_ref,'weight').values())), calculate_edge_density(G_ref))\n",
        "    \n",
        "  elif model == 'Barabasi-Albert':\n",
        "    edges = get_barabasi_albert_graph(len(G_ref.nodes), weights)\n",
        "\n",
        "  elif model == 'Chung Lu':\n",
        "    edges = get_chung_lu_graph(calculate_degrees_vector(G_ref), weights)\n",
        "    \n",
        "  elif model == 'Geometric Chung Lu':\n",
        "    edges = get_geometric_chung_lu_graph(calculate_degrees_vector(G_ref), weights)\n",
        "\n",
        "  else:\n",
        "    print('Nonexistent model name')\n",
        "    return \n",
        "\n",
        "\n",
        "  G=nx.Graph()\n",
        "  G.add_weighted_edges_from(edges)\n",
        "  print('\\n\\n' + model + ' graph was generated ')\n",
        "  \n",
        "\n",
        "  if vector_name=='PageRank':\n",
        "    ## PageRank vector\n",
        "    page_rank_G = calculate_page_rank_vector(G, 100)\n",
        "    #page_rank_G_ref = calculate_page_rank_vector(G_ref, 100)\n",
        "    #print(f'PageRank. G: {page_rank_G}, G_ref: {page_rank_G_ref}')\n",
        "    return page_rank_G\n",
        "\n",
        "  if vector_name=='Eigenvalues':\n",
        "    ## Eigenvalues\n",
        "    eigenvalues_G = calculate_eigenvalues_of_adj_matrix(G)\n",
        "    #eigenvalues_G_ref = calculate_eigenvalues_of_adj_matrix(G_ref)\n",
        "    #print(f'Eigenvalues. G: {eigenvalues_G}, G_ref: {eigenvalues_G_ref}')\n",
        "    return eigenvalues_G\n",
        "\n",
        "  if vector_name=='Weights':\n",
        "    ## Vector of weights\n",
        "    weights_G = calculate_vector_of_weights(G)\n",
        "    #weights_G_ref = calculate_vector_of_weights(G_ref)\n",
        "    #print(f'Vector of weights. G: {weights_G}, G_ref: {weights_G_ref}')\n",
        "    return weights_G\n",
        "\n",
        "  if vector_name=='Degrees':\n",
        "    ## Degrees vector\n",
        "    degrees_G = calculate_degrees_vector(G)\n",
        "    #degrees_G_ref = calculate_degrees_vector(G_ref)\n",
        "    #print(f'Degrees vector. G: {degrees_G}, G_ref: {degrees_G_ref}')\n",
        "    return degrees_G"
      ],
      "metadata": {
        "id": "WDj7tP69xrhf"
      },
      "execution_count": 22,
      "outputs": []
    },
    {
      "cell_type": "code",
      "source": [
        "min = optic_graph['weight'].min()\n",
        "max = optic_graph['weight'].max()\n",
        "print(min, max)"
      ],
      "metadata": {
        "colab": {
          "base_uri": "https://localhost:8080/"
        },
        "id": "H99VtCzJInW5",
        "outputId": "3aa91a0c-b0ec-4e1a-d1bb-db217beb624a"
      },
      "execution_count": 23,
      "outputs": [
        {
          "output_type": "stream",
          "name": "stdout",
          "text": [
            "1 793\n"
          ]
        }
      ]
    },
    {
      "cell_type": "markdown",
      "source": [
        "## Numeric parameters"
      ],
      "metadata": {
        "id": "bCeVZu0sutvM"
      }
    },
    {
      "cell_type": "code",
      "source": [
        "estimate_numeric_parameters(G_ref, 'Erdos-Renyi', optic_graph['weight'])\n",
        "estimate_numeric_parameters(G_ref, 'Geometric', optic_graph['weight'])\n",
        "estimate_numeric_parameters(G_ref, 'Barabasi-Albert', optic_graph['weight'])\n",
        "estimate_numeric_parameters(G_ref, 'Chung Lu', optic_graph['weight'])\n",
        "estimate_numeric_parameters(G_ref, 'Geometric Chung Lu', optic_graph['weight'])"
      ],
      "metadata": {
        "colab": {
          "base_uri": "https://localhost:8080/"
        },
        "id": "kpa0Ggor4yK3",
        "outputId": "d0bee839-9e07-4759-9109-5e1659a47261"
      },
      "execution_count": null,
      "outputs": [
        {
          "output_type": "stream",
          "name": "stdout",
          "text": [
            "\n",
            "\n",
            "Erdos-Renyi graph was generated \n",
            "Edge density. G: 0.012786541766406045\n",
            "Number of connected components. G: 1\n",
            "Triangles amount. G: 18219.0\n",
            "Clustering coeff. G: 0.01279030277455616\n",
            "\n",
            "\n",
            "Geometric graph was generated \n",
            "Edge density. G: 0.012827633030102715\n",
            "Number of connected components. G: 1\n",
            "Triangles amount. G: 18190.0\n",
            "Clustering coeff. G: 0.01270662242726237\n",
            "\n",
            "\n",
            "Barabasi-Albert graph was generated \n",
            "Edge density. G: 0.0010699477825965756\n",
            "Number of connected components. G: 1\n",
            "Triangles amount. G: 103.0\n",
            "Clustering coeff. G: 0.010356578180659135\n",
            "\n",
            "\n",
            "Chung Lu graph was generated \n",
            "Edge density. G: 0.013649157706796271\n",
            "Number of connected components. G: 2\n",
            "Triangles amount. G: 459971.0\n",
            "Clustering coeff. G: 0.11861476234735119\n",
            "\n",
            "\n",
            "Geometric Chung Lu graph was generated \n",
            "Edge density. G: 0.010646562599535834\n",
            "Number of connected components. G: 1\n",
            "Triangles amount. G: 208594.0\n",
            "Clustering coeff. G: 0.09005921900803854\n"
          ]
        },
        {
          "output_type": "execute_result",
          "data": {
            "text/plain": [
              "array([1.06465626e-02, 1.00000000e+00, 2.08594000e+05, 9.00592190e-02])"
            ]
          },
          "metadata": {},
          "execution_count": 32
        }
      ]
    },
    {
      "cell_type": "code",
      "source": [
        "estimations = [estimate_numeric_parameters(G_ref, 'Erdos-Renyi', optic_graph['weight'])]\n",
        "print(estimations)\n",
        "print(np.array(estimations).mean(axis = 0), np.var(np.array(estimations), axis = 0)) # или axis = 0?"
      ],
      "metadata": {
        "colab": {
          "base_uri": "https://localhost:8080/"
        },
        "id": "fC30dzwOVM70",
        "outputId": "c88508fd-4300-4114-c97c-ad299af17f18"
      },
      "execution_count": null,
      "outputs": [
        {
          "output_type": "stream",
          "name": "stdout",
          "text": [
            "\n",
            "\n",
            "Erdos-Renyi graph was generated \n",
            "Edge density. G: 0.012771937902653222\n",
            "Number of connected components. G: 1\n",
            "Triangles amount. G: 17955.0\n",
            "Clustering coeff. G: 0.012639301554129415\n",
            "[array([1.27719379e-02, 1.00000000e+00, 1.79550000e+04, 1.26393016e-02])]\n",
            "[1.27719379e-02 1.00000000e+00 1.79550000e+04 1.26393016e-02] [0. 0. 0. 0.]\n"
          ]
        }
      ]
    },
    {
      "cell_type": "code",
      "source": [
        "# 100 experements\n",
        "def experements_numeric(amount, G_ref, model):\n",
        "  estimations = []\n",
        "  for i in range(amount):\n",
        "    current = estimate_numeric_parameters(G_ref, model, optic_graph['weight'])\n",
        "    estimations.append(current)\n",
        "  return np.array(estimations).mean(axis = 0), np.var(np.array(estimations), axis = 0) "
      ],
      "metadata": {
        "id": "UDtrfvql84HD"
      },
      "execution_count": 27,
      "outputs": []
    },
    {
      "cell_type": "code",
      "source": [
        "erdos_renyi_estimations, erdos_renyi_estimations_var = experements_numeric(50, G_ref, 'Erdos-Renyi')"
      ],
      "metadata": {
        "colab": {
          "base_uri": "https://localhost:8080/"
        },
        "id": "QeQCowT0IMnJ",
        "outputId": "4e57df51-aa20-4760-8fdd-89a301d120af"
      },
      "execution_count": null,
      "outputs": [
        {
          "output_type": "stream",
          "name": "stdout",
          "text": [
            "\n",
            "\n",
            "Erdos-Renyi graph was generated \n",
            "Edge density. G: 0.012776519506967832\n",
            "Number of connected components. G: 1\n",
            "Triangles amount. G: 18350.0\n",
            "Clustering coeff. G: 0.012941065207437423\n",
            "\n",
            "\n",
            "Erdos-Renyi graph was generated \n",
            "Edge density. G: 0.012797566251788078\n",
            "Number of connected components. G: 1\n",
            "Triangles amount. G: 18245.0\n",
            "Clustering coeff. G: 0.012799909246562186\n",
            "\n",
            "\n",
            "Erdos-Renyi graph was generated \n",
            "Edge density. G: 0.012743732401091395\n",
            "Number of connected components. G: 1\n",
            "Triangles amount. G: 17910.0\n",
            "Clustering coeff. G: 0.012688654392382008\n",
            "\n",
            "\n",
            "Erdos-Renyi graph was generated \n",
            "Edge density. G: 0.012748314005406007\n",
            "Number of connected components. G: 1\n",
            "Triangles amount. G: 17921.0\n",
            "Clustering coeff. G: 0.012660667422021713\n",
            "\n",
            "\n",
            "Erdos-Renyi graph was generated \n",
            "Edge density. G: 0.012742873350282406\n",
            "Number of connected components. G: 1\n",
            "Triangles amount. G: 17959.0\n",
            "Clustering coeff. G: 0.012713267055281696\n",
            "\n",
            "\n",
            "Erdos-Renyi graph was generated \n",
            "Edge density. G: 0.012800000229080215\n",
            "Number of connected components. G: 1\n",
            "Triangles amount. G: 18238.0\n",
            "Clustering coeff. G: 0.012793920999722284\n",
            "\n",
            "\n",
            "Erdos-Renyi graph was generated \n",
            "Edge density. G: 0.012755902287552082\n",
            "Number of connected components. G: 1\n",
            "Triangles amount. G: 18155.0\n",
            "Clustering coeff. G: 0.012818756113030138\n",
            "\n",
            "\n",
            "Erdos-Renyi graph was generated \n",
            "Edge density. G: 0.012826773979293726\n",
            "Number of connected components. G: 1\n",
            "Triangles amount. G: 18335.0\n",
            "Clustering coeff. G: 0.012828082478547302\n",
            "\n",
            "\n",
            "Erdos-Renyi graph was generated \n",
            "Edge density. G: 0.012754327361068934\n",
            "Number of connected components. G: 1\n",
            "Triangles amount. G: 17971.0\n",
            "Clustering coeff. G: 0.012707799667831948\n",
            "\n",
            "\n",
            "Erdos-Renyi graph was generated \n",
            "Edge density. G: 0.01285827250895668\n",
            "Number of connected components. G: 1\n",
            "Triangles amount. G: 18608.0\n",
            "Clustering coeff. G: 0.012918110225096306\n",
            "\n",
            "\n",
            "Erdos-Renyi graph was generated \n",
            "Edge density. G: 0.012736573644349816\n",
            "Number of connected components. G: 1\n",
            "Triangles amount. G: 17779.0\n",
            "Clustering coeff. G: 0.012592592366251444\n",
            "\n",
            "\n",
            "Erdos-Renyi graph was generated \n",
            "Edge density. G: 0.012785396365327393\n",
            "Number of connected components. G: 1\n",
            "Triangles amount. G: 17982.0\n",
            "Clustering coeff. G: 0.012604576662998189\n",
            "\n",
            "\n",
            "Erdos-Renyi graph was generated \n",
            "Edge density. G: 0.012769360750226253\n",
            "Number of connected components. G: 1\n",
            "Triangles amount. G: 18059.0\n",
            "Clustering coeff. G: 0.012746023740375452\n",
            "\n",
            "\n",
            "Erdos-Renyi graph was generated \n",
            "Edge density. G: 0.01284495722141734\n",
            "Number of connected components. G: 1\n",
            "Triangles amount. G: 18323.0\n",
            "Clustering coeff. G: 0.012756156653787131\n",
            "\n",
            "\n",
            "Erdos-Renyi graph was generated \n",
            "Edge density. G: 0.012757906739439724\n",
            "Number of connected components. G: 1\n",
            "Triangles amount. G: 18124.0\n",
            "Clustering coeff. G: 0.012782385779895\n",
            "\n",
            "\n",
            "Erdos-Renyi graph was generated \n",
            "Edge density. G: 0.012796134500439763\n",
            "Number of connected components. G: 1\n",
            "Triangles amount. G: 18478.0\n",
            "Clustering coeff. G: 0.013018892812394264\n",
            "\n",
            "\n",
            "Erdos-Renyi graph was generated \n",
            "Edge density. G: 0.012829064781451032\n",
            "Number of connected components. G: 1\n",
            "Triangles amount. G: 18531.0\n",
            "Clustering coeff. G: 0.012939544421281866\n",
            "\n",
            "\n",
            "Erdos-Renyi graph was generated \n",
            "Edge density. G: 0.012802434206372353\n",
            "Number of connected components. G: 1\n",
            "Triangles amount. G: 18043.0\n",
            "Clustering coeff. G: 0.012654449582368686\n",
            "\n",
            "\n",
            "Erdos-Renyi graph was generated \n",
            "Edge density. G: 0.012836366713327442\n",
            "Number of connected components. G: 1\n",
            "Triangles amount. G: 18490.0\n",
            "Clustering coeff. G: 0.012913812500718578\n",
            "\n",
            "\n",
            "Erdos-Renyi graph was generated \n",
            "Edge density. G: 0.0128012888052937\n",
            "Number of connected components. G: 1\n",
            "Triangles amount. G: 18292.0\n",
            "Clustering coeff. G: 0.012825975214728886\n",
            "\n",
            "\n",
            "Erdos-Renyi graph was generated \n",
            "Edge density. G: 0.012796993551248753\n",
            "Number of connected components. G: 1\n",
            "Triangles amount. G: 18328.0\n",
            "Clustering coeff. G: 0.01286795881502802\n",
            "\n",
            "\n",
            "Erdos-Renyi graph was generated \n",
            "Edge density. G: 0.012698918583889104\n",
            "Number of connected components. G: 1\n",
            "Triangles amount. G: 17902.0\n",
            "Clustering coeff. G: 0.0127489055171113\n",
            "\n",
            "\n",
            "Erdos-Renyi graph was generated \n",
            "Edge density. G: 0.012764922321046472\n",
            "Number of connected components. G: 1\n",
            "Triangles amount. G: 18149.0\n",
            "Clustering coeff. G: 0.012771454639478399\n",
            "\n",
            "\n",
            "Erdos-Renyi graph was generated \n",
            "Edge density. G: 0.012754613711338597\n",
            "Number of connected components. G: 1\n",
            "Triangles amount. G: 17961.0\n",
            "Clustering coeff. G: 0.012722129789382763\n",
            "\n",
            "\n",
            "Erdos-Renyi graph was generated \n",
            "Edge density. G: 0.012755329587012755\n",
            "Number of connected components. G: 1\n",
            "Triangles amount. G: 17951.0\n",
            "Clustering coeff. G: 0.012703282233117856\n",
            "\n",
            "\n",
            "Erdos-Renyi graph was generated \n",
            "Edge density. G: 0.012797423076653247\n",
            "Number of connected components. G: 1\n",
            "Triangles amount. G: 18250.0\n",
            "Clustering coeff. G: 0.01281123625279408\n",
            "\n",
            "\n",
            "Erdos-Renyi graph was generated \n",
            "Edge density. G: 0.01273528506813633\n",
            "Number of connected components. G: 1\n",
            "Triangles amount. G: 17822.0\n",
            "Clustering coeff. G: 0.012644606518943191\n",
            "\n",
            "\n",
            "Erdos-Renyi graph was generated \n",
            "Edge density. G: 0.012710086244405968\n",
            "Number of connected components. G: 1\n",
            "Triangles amount. G: 18017.0\n",
            "Clustering coeff. G: 0.012828067650595482\n",
            "\n",
            "\n",
            "Erdos-Renyi graph was generated \n",
            "Edge density. G: 0.012772796953462211\n",
            "Number of connected components. G: 1\n",
            "Triangles amount. G: 18181.0\n",
            "Clustering coeff. G: 0.012804055424544006\n",
            "\n",
            "\n",
            "Erdos-Renyi graph was generated \n",
            "Edge density. G: 0.01270307066279922\n",
            "Number of connected components. G: 1\n",
            "Triangles amount. G: 17813.0\n",
            "Clustering coeff. G: 0.0127001388020848\n",
            "\n",
            "\n",
            "Erdos-Renyi graph was generated \n",
            "Edge density. G: 0.012752609259450955\n",
            "Number of connected components. G: 1\n",
            "Triangles amount. G: 18135.0\n",
            "Clustering coeff. G: 0.01283098767163761\n",
            "\n",
            "\n",
            "Erdos-Renyi graph was generated \n",
            "Edge density. G: 0.012743302875686901\n",
            "Number of connected components. G: 1\n",
            "Triangles amount. G: 18102.0\n",
            "Clustering coeff. G: 0.012787963226166993\n",
            "\n",
            "\n",
            "Erdos-Renyi graph was generated \n",
            "Edge density. G: 0.012743875576226226\n",
            "Number of connected components. G: 1\n",
            "Triangles amount. G: 18017.0\n",
            "Clustering coeff. G: 0.012721467980808922\n",
            "\n",
            "\n",
            "Erdos-Renyi graph was generated \n",
            "Edge density. G: 0.012754327361068934\n",
            "Number of connected components. G: 1\n",
            "Triangles amount. G: 18085.0\n",
            "Clustering coeff. G: 0.012771859772896311\n",
            "\n",
            "\n",
            "Erdos-Renyi graph was generated \n",
            "Edge density. G: 0.01278081476101278\n",
            "Number of connected components. G: 1\n",
            "Triangles amount. G: 18185.0\n",
            "Clustering coeff. G: 0.01280848081970808\n",
            "\n",
            "\n",
            "Erdos-Renyi graph was generated \n",
            "Edge density. G: 0.012721683430327329\n",
            "Number of connected components. G: 1\n",
            "Triangles amount. G: 18021.0\n",
            "Clustering coeff. G: 0.012826626125408256\n",
            "\n",
            "\n",
            "Erdos-Renyi graph was generated \n",
            "Edge density. G: 0.012743875576226226\n",
            "Number of connected components. G: 1\n",
            "Triangles amount. G: 17821.0\n",
            "Clustering coeff. G: 0.012638205274394064\n",
            "\n",
            "\n",
            "Erdos-Renyi graph was generated \n",
            "Edge density. G: 0.012830782883069011\n",
            "Number of connected components. G: 1\n",
            "Triangles amount. G: 18288.0\n",
            "Clustering coeff. G: 0.012783979054794156\n",
            "\n",
            "\n",
            "Erdos-Renyi graph was generated \n",
            "Edge density. G: 0.012839087040889244\n",
            "Number of connected components. G: 1\n",
            "Triangles amount. G: 18532.0\n",
            "Clustering coeff. G: 0.012952193662803382\n",
            "\n",
            "\n",
            "Erdos-Renyi graph was generated \n",
            "Edge density. G: 0.01274416192649589\n",
            "Number of connected components. G: 1\n",
            "Triangles amount. G: 17887.0\n",
            "Clustering coeff. G: 0.012667677378920108\n",
            "\n",
            "\n",
            "Erdos-Renyi graph was generated \n",
            "Edge density. G: 0.012805154533934153\n",
            "Number of connected components. G: 1\n",
            "Triangles amount. G: 18369.0\n",
            "Clustering coeff. G: 0.012868768784691398\n",
            "\n",
            "\n",
            "Erdos-Renyi graph was generated \n",
            "Edge density. G: 0.012735857768675658\n",
            "Number of connected components. G: 1\n",
            "Triangles amount. G: 18006.0\n",
            "Clustering coeff. G: 0.012738648530769836\n",
            "\n",
            "\n",
            "Erdos-Renyi graph was generated \n",
            "Edge density. G: 0.012731276164361045\n",
            "Number of connected components. G: 1\n",
            "Triangles amount. G: 17811.0\n",
            "Clustering coeff. G: 0.012638369256341242\n",
            "\n",
            "\n",
            "Erdos-Renyi graph was generated \n",
            "Edge density. G: 0.012707795442248662\n",
            "Number of connected components. G: 1\n",
            "Triangles amount. G: 17834.0\n",
            "Clustering coeff. G: 0.012675824727142057\n",
            "\n",
            "\n",
            "Erdos-Renyi graph was generated \n",
            "Edge density. G: 0.012766783597799284\n",
            "Number of connected components. G: 1\n",
            "Triangles amount. G: 17990.0\n",
            "Clustering coeff. G: 0.012673510925803905\n",
            "\n",
            "\n",
            "Erdos-Renyi graph was generated \n",
            "Edge density. G: 0.012823051425788105\n",
            "Number of connected components. G: 1\n",
            "Triangles amount. G: 18200.0\n",
            "Clustering coeff. G: 0.01270300348918751\n",
            "\n",
            "\n",
            "Erdos-Renyi graph was generated \n",
            "Edge density. G: 0.01280844756203528\n",
            "Number of connected components. G: 1\n",
            "Triangles amount. G: 18445.0\n",
            "Clustering coeff. G: 0.012898401567144486\n",
            "\n",
            "\n",
            "Erdos-Renyi graph was generated \n",
            "Edge density. G: 0.012801002455024036\n",
            "Number of connected components. G: 1\n",
            "Triangles amount. G: 18162.0\n",
            "Clustering coeff. G: 0.012698911880276288\n",
            "\n",
            "\n",
            "Erdos-Renyi graph was generated \n",
            "Edge density. G: 0.012842952769529696\n",
            "Number of connected components. G: 1\n",
            "Triangles amount. G: 18457.0\n",
            "Clustering coeff. G: 0.012835079362025811\n",
            "\n",
            "\n",
            "Erdos-Renyi graph was generated \n",
            "Edge density. G: 0.01280844756203528\n",
            "Number of connected components. G: 1\n",
            "Triangles amount. G: 18560.0\n",
            "Clustering coeff. G: 0.012974616292665612\n"
          ]
        }
      ]
    },
    {
      "cell_type": "code",
      "source": [
        "print(erdos_renyi_estimations, erdos_renyi_estimations_var)"
      ],
      "metadata": {
        "colab": {
          "base_uri": "https://localhost:8080/"
        },
        "id": "XhPEbiocC0dT",
        "outputId": "c5114e04-4f84-4cb6-f7e0-8e18c08a09b5"
      },
      "execution_count": null,
      "outputs": [
        {
          "output_type": "stream",
          "name": "stdout",
          "text": [
            "[1.27747699e-02 1.00000000e+00 1.81414800e+04 1.27760211e-02] [1.63975840e-09 0.00000000e+00 5.08903696e+04 1.00839500e-08]\n"
          ]
        }
      ]
    },
    {
      "cell_type": "code",
      "source": [
        "geometric_estimations, geometric_estimations_var = experements_numeric(50, G_ref, 'Geometric')"
      ],
      "metadata": {
        "id": "lC4jeZ4znnHE",
        "colab": {
          "base_uri": "https://localhost:8080/"
        },
        "outputId": "c00f83d5-f0ec-4c98-f5a1-8d803d6fb420"
      },
      "execution_count": 23,
      "outputs": [
        {
          "output_type": "stream",
          "name": "stdout",
          "text": [
            "\n",
            "\n",
            "Geometric graph was generated \n",
            "Edge density. G: 0.01267901724014751\n",
            "Number of connected components. G: 1\n",
            "Triangles amount. G: 17926.0\n",
            "Clustering coeff. G: 0.012809230948890938\n",
            "\n",
            "\n",
            "Geometric graph was generated \n",
            "Edge density. G: 0.012744018751361058\n",
            "Number of connected components. G: 1\n",
            "Triangles amount. G: 17879.0\n",
            "Clustering coeff. G: 0.012648980648528596\n",
            "\n",
            "\n",
            "Geometric graph was generated \n",
            "Edge density. G: 0.012790407495046499\n",
            "Number of connected components. G: 1\n",
            "Triangles amount. G: 18429.0\n",
            "Clustering coeff. G: 0.012923621410424099\n",
            "\n",
            "\n",
            "Geometric graph was generated \n",
            "Edge density. G: 0.012775517281024011\n",
            "Number of connected components. G: 1\n",
            "Triangles amount. G: 18014.0\n",
            "Clustering coeff. G: 0.012735592502468187\n",
            "\n",
            "\n",
            "Geometric graph was generated \n",
            "Edge density. G: 0.012789262093967845\n",
            "Number of connected components. G: 1\n",
            "Triangles amount. G: 17911.0\n",
            "Clustering coeff. G: 0.01258916598491301\n",
            "\n",
            "\n",
            "Geometric graph was generated \n",
            "Edge density. G: 0.012719392628170022\n",
            "Number of connected components. G: 1\n",
            "Triangles amount. G: 17896.0\n",
            "Clustering coeff. G: 0.012681705582099821\n",
            "\n",
            "\n",
            "Geometric graph was generated \n",
            "Edge density. G: 0.012743016525417237\n",
            "Number of connected components. G: 1\n",
            "Triangles amount. G: 17888.0\n",
            "Clustering coeff. G: 0.01269047292624482\n",
            "\n",
            "\n",
            "Geometric graph was generated \n",
            "Edge density. G: 0.012783248738304918\n",
            "Number of connected components. G: 1\n",
            "Triangles amount. G: 17973.0\n",
            "Clustering coeff. G: 0.012650086325198892\n",
            "\n",
            "\n",
            "Geometric graph was generated \n",
            "Edge density. G: 0.012803722782585838\n",
            "Number of connected components. G: 1\n",
            "Triangles amount. G: 18285.0\n",
            "Clustering coeff. G: 0.012795528348741104\n",
            "\n",
            "\n",
            "Geometric graph was generated \n",
            "Edge density. G: 0.012773369654001537\n",
            "Number of connected components. G: 1\n",
            "Triangles amount. G: 18220.0\n",
            "Clustering coeff. G: 0.012822166173235443\n",
            "\n",
            "\n",
            "Geometric graph was generated \n",
            "Edge density. G: 0.012752752434585787\n",
            "Number of connected components. G: 1\n",
            "Triangles amount. G: 17803.0\n",
            "Clustering coeff. G: 0.012607096902523807\n",
            "\n",
            "\n",
            "Geometric graph was generated \n",
            "Edge density. G: 0.012784537314518403\n",
            "Number of connected components. G: 1\n",
            "Triangles amount. G: 18152.0\n",
            "Clustering coeff. G: 0.012793451618386539\n",
            "\n",
            "\n",
            "Geometric graph was generated \n",
            "Edge density. G: 0.012752609259450955\n",
            "Number of connected components. G: 1\n",
            "Triangles amount. G: 18027.0\n",
            "Clustering coeff. G: 0.012792745425817202\n",
            "\n",
            "\n",
            "Geometric graph was generated \n",
            "Edge density. G: 0.012800143404215047\n",
            "Number of connected components. G: 1\n",
            "Triangles amount. G: 18088.0\n",
            "Clustering coeff. G: 0.012687990665159354\n",
            "\n",
            "\n",
            "Geometric graph was generated \n",
            "Edge density. G: 0.012739150796776785\n",
            "Number of connected components. G: 1\n",
            "Triangles amount. G: 17889.0\n",
            "Clustering coeff. G: 0.0126519763094828\n",
            "\n",
            "\n",
            "Geometric graph was generated \n",
            "Edge density. G: 0.01275132068323747\n",
            "Number of connected components. G: 1\n",
            "Triangles amount. G: 18021.0\n",
            "Clustering coeff. G: 0.012760528975921453\n",
            "\n",
            "\n",
            "Geometric graph was generated \n",
            "Edge density. G: 0.01278081476101278\n",
            "Number of connected components. G: 1\n",
            "Triangles amount. G: 18282.0\n",
            "Clustering coeff. G: 0.012872705102212978\n",
            "\n",
            "\n",
            "Geometric graph was generated \n",
            "Edge density. G: 0.012781387461552107\n",
            "Number of connected components. G: 1\n",
            "Triangles amount. G: 18274.0\n",
            "Clustering coeff. G: 0.012842948212435597\n",
            "\n",
            "\n",
            "Geometric graph was generated \n",
            "Edge density. G: 0.012749316231349828\n",
            "Number of connected components. G: 1\n",
            "Triangles amount. G: 17897.0\n",
            "Clustering coeff. G: 0.012676506074716355\n",
            "\n",
            "\n",
            "Geometric graph was generated \n",
            "Edge density. G: 0.012832214634417326\n",
            "Number of connected components. G: 1\n",
            "Triangles amount. G: 18293.0\n",
            "Clustering coeff. G: 0.012769129417941456\n",
            "\n",
            "\n",
            "Geometric graph was generated \n",
            "Edge density. G: 0.012823910476597094\n",
            "Number of connected components. G: 1\n",
            "Triangles amount. G: 18336.0\n",
            "Clustering coeff. G: 0.0128255531583107\n",
            "\n",
            "\n",
            "Geometric graph was generated \n",
            "Edge density. G: 0.012760340716731862\n",
            "Number of connected components. G: 1\n",
            "Triangles amount. G: 17999.0\n",
            "Clustering coeff. G: 0.01269177487545348\n",
            "\n",
            "\n",
            "Geometric graph was generated \n",
            "Edge density. G: 0.01272454693302396\n",
            "Number of connected components. G: 1\n",
            "Triangles amount. G: 17905.0\n",
            "Clustering coeff. G: 0.012728252667915415\n",
            "\n",
            "\n",
            "Geometric graph was generated \n",
            "Edge density. G: 0.012775660456158843\n",
            "Number of connected components. G: 1\n",
            "Triangles amount. G: 18110.0\n",
            "Clustering coeff. G: 0.012730438796466511\n",
            "\n",
            "\n",
            "Geometric graph was generated \n",
            "Edge density. G: 0.012687178222832912\n",
            "Number of connected components. G: 1\n",
            "Triangles amount. G: 17938.0\n",
            "Clustering coeff. G: 0.012811280410577048\n",
            "\n",
            "\n",
            "Geometric graph was generated \n",
            "Edge density. G: 0.012719535803304854\n",
            "Number of connected components. G: 1\n",
            "Triangles amount. G: 17759.0\n",
            "Clustering coeff. G: 0.012628370828292828\n",
            "\n",
            "\n",
            "Geometric graph was generated \n",
            "Edge density. G: 0.012776662682102664\n",
            "Number of connected components. G: 1\n",
            "Triangles amount. G: 17989.0\n",
            "Clustering coeff. G: 0.01266052332753177\n",
            "\n",
            "\n",
            "Geometric graph was generated \n",
            "Edge density. G: 0.012763633744832989\n",
            "Number of connected components. G: 1\n",
            "Triangles amount. G: 17990.0\n",
            "Clustering coeff. G: 0.01269361124175675\n",
            "\n",
            "\n",
            "Geometric graph was generated \n",
            "Edge density. G: 0.012743875576226226\n",
            "Number of connected components. G: 1\n",
            "Triangles amount. G: 17989.0\n",
            "Clustering coeff. G: 0.012747332766581776\n",
            "\n",
            "\n",
            "Geometric graph was generated \n",
            "Edge density. G: 0.012776949032372328\n",
            "Number of connected components. G: 1\n",
            "Triangles amount. G: 18055.0\n",
            "Clustering coeff. G: 0.01270333693178549\n",
            "\n",
            "\n",
            "Geometric graph was generated \n",
            "Edge density. G: 0.012755472762147587\n",
            "Number of connected components. G: 1\n",
            "Triangles amount. G: 18238.0\n",
            "Clustering coeff. G: 0.012895420701591238\n",
            "\n",
            "\n",
            "Geometric graph was generated \n",
            "Edge density. G: 0.01274588002811387\n",
            "Number of connected components. G: 1\n",
            "Triangles amount. G: 18177.0\n",
            "Clustering coeff. G: 0.01287134725526932\n",
            "\n",
            "\n",
            "Geometric graph was generated \n",
            "Edge density. G: 0.01282362412632743\n",
            "Number of connected components. G: 1\n",
            "Triangles amount. G: 18325.0\n",
            "Clustering coeff. G: 0.012815022432540618\n",
            "\n",
            "\n",
            "Geometric graph was generated \n",
            "Edge density. G: 0.012769647100495916\n",
            "Number of connected components. G: 1\n",
            "Triangles amount. G: 18044.0\n",
            "Clustering coeff. G: 0.012705672414599727\n",
            "\n",
            "\n",
            "Geometric graph was generated \n",
            "Edge density. G: 0.012758622615113882\n",
            "Number of connected components. G: 1\n",
            "Triangles amount. G: 18101.0\n",
            "Clustering coeff. G: 0.012772201924253677\n",
            "\n",
            "\n",
            "Geometric graph was generated \n",
            "Edge density. G: 0.012824340002001588\n",
            "Number of connected components. G: 1\n",
            "Triangles amount. G: 18617.0\n",
            "Clustering coeff. G: 0.013026663168345139\n",
            "\n",
            "\n",
            "Geometric graph was generated \n",
            "Edge density. G: 0.012770076625900411\n",
            "Number of connected components. G: 1\n",
            "Triangles amount. G: 18180.0\n",
            "Clustering coeff. G: 0.012807430601590272\n",
            "\n",
            "\n",
            "Geometric graph was generated \n",
            "Edge density. G: 0.01274673907892286\n",
            "Number of connected components. G: 1\n",
            "Triangles amount. G: 18078.0\n",
            "Clustering coeff. G: 0.012831447651357896\n",
            "\n",
            "\n",
            "Geometric graph was generated \n",
            "Edge density. G: 0.01281918569714765\n",
            "Number of connected components. G: 1\n",
            "Triangles amount. G: 18374.0\n",
            "Clustering coeff. G: 0.012863198494816833\n",
            "\n",
            "\n",
            "Geometric graph was generated \n",
            "Edge density. G: 0.012827776205237547\n",
            "Number of connected components. G: 1\n",
            "Triangles amount. G: 18286.0\n",
            "Clustering coeff. G: 0.01281177514772444\n",
            "\n",
            "\n",
            "Geometric graph was generated \n",
            "Edge density. G: 0.012651527614259842\n",
            "Number of connected components. G: 1\n",
            "Triangles amount. G: 17575.0\n",
            "Clustering coeff. G: 0.012599726607120117\n",
            "\n",
            "\n",
            "Geometric graph was generated \n",
            "Edge density. G: 0.012731276164361045\n",
            "Number of connected components. G: 1\n",
            "Triangles amount. G: 18005.0\n",
            "Clustering coeff. G: 0.012763865005719695\n",
            "\n",
            "\n",
            "Geometric graph was generated \n",
            "Edge density. G: 0.012833932736035307\n",
            "Number of connected components. G: 1\n",
            "Triangles amount. G: 18483.0\n",
            "Clustering coeff. G: 0.01289432848486468\n",
            "\n",
            "\n",
            "Geometric graph was generated \n",
            "Edge density. G: 0.012782389687495928\n",
            "Number of connected components. G: 1\n",
            "Triangles amount. G: 18136.0\n",
            "Clustering coeff. G: 0.01276481422375946\n",
            "\n",
            "\n",
            "Geometric graph was generated \n",
            "Edge density. G: 0.012726837735181266\n",
            "Number of connected components. G: 1\n",
            "Triangles amount. G: 17804.0\n",
            "Clustering coeff. G: 0.012619586177915127\n",
            "\n",
            "\n",
            "Geometric graph was generated \n",
            "Edge density. G: 0.012802434206372353\n",
            "Number of connected components. G: 1\n",
            "Triangles amount. G: 18188.0\n",
            "Clustering coeff. G: 0.012750964905448161\n",
            "\n",
            "\n",
            "Geometric graph was generated \n",
            "Edge density. G: 0.01276291786915883\n",
            "Number of connected components. G: 1\n",
            "Triangles amount. G: 18217.0\n",
            "Clustering coeff. G: 0.012867394160667314\n",
            "\n",
            "\n",
            "Geometric graph was generated \n",
            "Edge density. G: 0.012777664908046486\n",
            "Number of connected components. G: 1\n",
            "Triangles amount. G: 17849.0\n",
            "Clustering coeff. G: 0.012579254071564688\n",
            "\n",
            "\n",
            "Geometric graph was generated \n",
            "Edge density. G: 0.012738291745967795\n",
            "Number of connected components. G: 1\n",
            "Triangles amount. G: 18249.0\n",
            "Clustering coeff. G: 0.012913231836967624\n",
            "\n",
            "\n",
            "Geometric graph was generated \n",
            "Edge density. G: 0.01265310254074299\n",
            "Number of connected components. G: 1\n",
            "Triangles amount. G: 17579.0\n",
            "Clustering coeff. G: 0.012638755569812858\n"
          ]
        }
      ]
    },
    {
      "cell_type": "code",
      "source": [
        "print(geometric_estimations, geometric_estimations_var)"
      ],
      "metadata": {
        "id": "uWrmtalPyGKR",
        "colab": {
          "base_uri": "https://localhost:8080/"
        },
        "outputId": "9b1d2a7e-a67e-40c4-da66-c63b26f5d9ba"
      },
      "execution_count": 24,
      "outputs": [
        {
          "output_type": "stream",
          "name": "stdout",
          "text": [
            "[1.27635851e-02 1.00000000e+00 1.80744400e+04 1.27562841e-02] [1.71462391e-09 0.00000000e+00 4.56870064e+04 9.81836938e-09]\n"
          ]
        }
      ]
    },
    {
      "cell_type": "code",
      "source": [
        "barabasi_albert_estimations, barabasi_albert_estimations_var = experements_numeric(50, G_ref, 'Barabasi-Albert')"
      ],
      "metadata": {
        "colab": {
          "base_uri": "https://localhost:8080/"
        },
        "id": "JHjlgIL4d_2R",
        "outputId": "21cac7d9-4ac8-4618-fe20-5f07fffa3e26"
      },
      "execution_count": 25,
      "outputs": [
        {
          "output_type": "stream",
          "name": "stdout",
          "text": [
            "\n",
            "\n",
            "Barabasi-Albert graph was generated \n",
            "Edge density. G: 0.0010699477825965756\n",
            "Number of connected components. G: 1\n",
            "Triangles amount. G: 103.0\n",
            "Clustering coeff. G: 0.008926121317588069\n",
            "\n",
            "\n",
            "Barabasi-Albert graph was generated \n",
            "Edge density. G: 0.0010699477825965756\n",
            "Number of connected components. G: 1\n",
            "Triangles amount. G: 92.0\n",
            "Clustering coeff. G: 0.008187518818368749\n",
            "\n",
            "\n",
            "Barabasi-Albert graph was generated \n",
            "Edge density. G: 0.0010699477825965756\n",
            "Number of connected components. G: 1\n",
            "Triangles amount. G: 96.0\n",
            "Clustering coeff. G: 0.011306965344471299\n",
            "\n",
            "\n",
            "Barabasi-Albert graph was generated \n",
            "Edge density. G: 0.0010699477825965756\n",
            "Number of connected components. G: 1\n",
            "Triangles amount. G: 118.0\n",
            "Clustering coeff. G: 0.010915355974301065\n",
            "\n",
            "\n",
            "Barabasi-Albert graph was generated \n",
            "Edge density. G: 0.0010699477825965756\n",
            "Number of connected components. G: 1\n",
            "Triangles amount. G: 105.0\n",
            "Clustering coeff. G: 0.01240176854286707\n",
            "\n",
            "\n",
            "Barabasi-Albert graph was generated \n",
            "Edge density. G: 0.0010699477825965756\n",
            "Number of connected components. G: 1\n",
            "Triangles amount. G: 83.0\n",
            "Clustering coeff. G: 0.007899417984925435\n",
            "\n",
            "\n",
            "Barabasi-Albert graph was generated \n",
            "Edge density. G: 0.0010699477825965756\n",
            "Number of connected components. G: 1\n",
            "Triangles amount. G: 86.0\n",
            "Clustering coeff. G: 0.010805038494378269\n",
            "\n",
            "\n",
            "Barabasi-Albert graph was generated \n",
            "Edge density. G: 0.0010699477825965756\n",
            "Number of connected components. G: 1\n",
            "Triangles amount. G: 115.0\n",
            "Clustering coeff. G: 0.011268328912666256\n",
            "\n",
            "\n",
            "Barabasi-Albert graph was generated \n",
            "Edge density. G: 0.0010699477825965756\n",
            "Number of connected components. G: 1\n",
            "Triangles amount. G: 110.0\n",
            "Clustering coeff. G: 0.01005604261214429\n",
            "\n",
            "\n",
            "Barabasi-Albert graph was generated \n",
            "Edge density. G: 0.0010699477825965756\n",
            "Number of connected components. G: 1\n",
            "Triangles amount. G: 91.0\n",
            "Clustering coeff. G: 0.011295330288695948\n",
            "\n",
            "\n",
            "Barabasi-Albert graph was generated \n",
            "Edge density. G: 0.0010699477825965756\n",
            "Number of connected components. G: 1\n",
            "Triangles amount. G: 102.0\n",
            "Clustering coeff. G: 0.0097994737898534\n",
            "\n",
            "\n",
            "Barabasi-Albert graph was generated \n",
            "Edge density. G: 0.0010699477825965756\n",
            "Number of connected components. G: 1\n",
            "Triangles amount. G: 83.0\n",
            "Clustering coeff. G: 0.008457446369673136\n",
            "\n",
            "\n",
            "Barabasi-Albert graph was generated \n",
            "Edge density. G: 0.0010699477825965756\n",
            "Number of connected components. G: 1\n",
            "Triangles amount. G: 113.0\n",
            "Clustering coeff. G: 0.011904750922802512\n",
            "\n",
            "\n",
            "Barabasi-Albert graph was generated \n",
            "Edge density. G: 0.0010699477825965756\n",
            "Number of connected components. G: 1\n",
            "Triangles amount. G: 126.0\n",
            "Clustering coeff. G: 0.0122888504375068\n",
            "\n",
            "\n",
            "Barabasi-Albert graph was generated \n",
            "Edge density. G: 0.0010699477825965756\n",
            "Number of connected components. G: 1\n",
            "Triangles amount. G: 93.0\n",
            "Clustering coeff. G: 0.00788091742160366\n",
            "\n",
            "\n",
            "Barabasi-Albert graph was generated \n",
            "Edge density. G: 0.0010699477825965756\n",
            "Number of connected components. G: 1\n",
            "Triangles amount. G: 98.0\n",
            "Clustering coeff. G: 0.009007597815603542\n",
            "\n",
            "\n",
            "Barabasi-Albert graph was generated \n",
            "Edge density. G: 0.0010699477825965756\n",
            "Number of connected components. G: 1\n",
            "Triangles amount. G: 86.0\n",
            "Clustering coeff. G: 0.009182209204301474\n",
            "\n",
            "\n",
            "Barabasi-Albert graph was generated \n",
            "Edge density. G: 0.0010699477825965756\n",
            "Number of connected components. G: 1\n",
            "Triangles amount. G: 83.0\n",
            "Clustering coeff. G: 0.009198008621679035\n",
            "\n",
            "\n",
            "Barabasi-Albert graph was generated \n",
            "Edge density. G: 0.0010699477825965756\n",
            "Number of connected components. G: 1\n",
            "Triangles amount. G: 134.0\n",
            "Clustering coeff. G: 0.014433590891512988\n",
            "\n",
            "\n",
            "Barabasi-Albert graph was generated \n",
            "Edge density. G: 0.0010699477825965756\n",
            "Number of connected components. G: 1\n",
            "Triangles amount. G: 120.0\n",
            "Clustering coeff. G: 0.010767579512188282\n",
            "\n",
            "\n",
            "Barabasi-Albert graph was generated \n",
            "Edge density. G: 0.0010699477825965756\n",
            "Number of connected components. G: 1\n",
            "Triangles amount. G: 103.0\n",
            "Clustering coeff. G: 0.010087394054886362\n",
            "\n",
            "\n",
            "Barabasi-Albert graph was generated \n",
            "Edge density. G: 0.0010699477825965756\n",
            "Number of connected components. G: 1\n",
            "Triangles amount. G: 89.0\n",
            "Clustering coeff. G: 0.008107426751060789\n",
            "\n",
            "\n",
            "Barabasi-Albert graph was generated \n",
            "Edge density. G: 0.0010699477825965756\n",
            "Number of connected components. G: 1\n",
            "Triangles amount. G: 133.0\n",
            "Clustering coeff. G: 0.012807016408052969\n",
            "\n",
            "\n",
            "Barabasi-Albert graph was generated \n",
            "Edge density. G: 0.0010699477825965756\n",
            "Number of connected components. G: 1\n",
            "Triangles amount. G: 99.0\n",
            "Clustering coeff. G: 0.008351945528637904\n",
            "\n",
            "\n",
            "Barabasi-Albert graph was generated \n",
            "Edge density. G: 0.0010699477825965756\n",
            "Number of connected components. G: 1\n",
            "Triangles amount. G: 116.0\n",
            "Clustering coeff. G: 0.010326839442391952\n",
            "\n",
            "\n",
            "Barabasi-Albert graph was generated \n",
            "Edge density. G: 0.0010699477825965756\n",
            "Number of connected components. G: 1\n",
            "Triangles amount. G: 109.0\n",
            "Clustering coeff. G: 0.010568087129827958\n",
            "\n",
            "\n",
            "Barabasi-Albert graph was generated \n",
            "Edge density. G: 0.0010699477825965756\n",
            "Number of connected components. G: 1\n",
            "Triangles amount. G: 126.0\n",
            "Clustering coeff. G: 0.012441957634362257\n",
            "\n",
            "\n",
            "Barabasi-Albert graph was generated \n",
            "Edge density. G: 0.0010699477825965756\n",
            "Number of connected components. G: 1\n",
            "Triangles amount. G: 118.0\n",
            "Clustering coeff. G: 0.009809985472124517\n",
            "\n",
            "\n",
            "Barabasi-Albert graph was generated \n",
            "Edge density. G: 0.0010699477825965756\n",
            "Number of connected components. G: 1\n",
            "Triangles amount. G: 82.0\n",
            "Clustering coeff. G: 0.007253304217486288\n",
            "\n",
            "\n",
            "Barabasi-Albert graph was generated \n",
            "Edge density. G: 0.0010699477825965756\n",
            "Number of connected components. G: 1\n",
            "Triangles amount. G: 115.0\n",
            "Clustering coeff. G: 0.012268844556812576\n",
            "\n",
            "\n",
            "Barabasi-Albert graph was generated \n",
            "Edge density. G: 0.0010699477825965756\n",
            "Number of connected components. G: 1\n",
            "Triangles amount. G: 116.0\n",
            "Clustering coeff. G: 0.011253162714594315\n",
            "\n",
            "\n",
            "Barabasi-Albert graph was generated \n",
            "Edge density. G: 0.0010699477825965756\n",
            "Number of connected components. G: 1\n",
            "Triangles amount. G: 102.0\n",
            "Clustering coeff. G: 0.011123490271379297\n",
            "\n",
            "\n",
            "Barabasi-Albert graph was generated \n",
            "Edge density. G: 0.0010699477825965756\n",
            "Number of connected components. G: 1\n",
            "Triangles amount. G: 120.0\n",
            "Clustering coeff. G: 0.010421897181983303\n",
            "\n",
            "\n",
            "Barabasi-Albert graph was generated \n",
            "Edge density. G: 0.0010699477825965756\n",
            "Number of connected components. G: 1\n",
            "Triangles amount. G: 76.0\n",
            "Clustering coeff. G: 0.006872568113458657\n",
            "\n",
            "\n",
            "Barabasi-Albert graph was generated \n",
            "Edge density. G: 0.0010699477825965756\n",
            "Number of connected components. G: 1\n",
            "Triangles amount. G: 83.0\n",
            "Clustering coeff. G: 0.009041278752720431\n",
            "\n",
            "\n",
            "Barabasi-Albert graph was generated \n",
            "Edge density. G: 0.0010699477825965756\n",
            "Number of connected components. G: 1\n",
            "Triangles amount. G: 100.0\n",
            "Clustering coeff. G: 0.00911869751693574\n",
            "\n",
            "\n",
            "Barabasi-Albert graph was generated \n",
            "Edge density. G: 0.0010699477825965756\n",
            "Number of connected components. G: 1\n",
            "Triangles amount. G: 120.0\n",
            "Clustering coeff. G: 0.013435809685246635\n",
            "\n",
            "\n",
            "Barabasi-Albert graph was generated \n",
            "Edge density. G: 0.0010699477825965756\n",
            "Number of connected components. G: 1\n",
            "Triangles amount. G: 110.0\n",
            "Clustering coeff. G: 0.011995274541332163\n",
            "\n",
            "\n",
            "Barabasi-Albert graph was generated \n",
            "Edge density. G: 0.0010699477825965756\n",
            "Number of connected components. G: 1\n",
            "Triangles amount. G: 79.0\n",
            "Clustering coeff. G: 0.009169380940607295\n",
            "\n",
            "\n",
            "Barabasi-Albert graph was generated \n",
            "Edge density. G: 0.0010699477825965756\n",
            "Number of connected components. G: 1\n",
            "Triangles amount. G: 112.0\n",
            "Clustering coeff. G: 0.011304686718930436\n",
            "\n",
            "\n",
            "Barabasi-Albert graph was generated \n",
            "Edge density. G: 0.0010699477825965756\n",
            "Number of connected components. G: 1\n",
            "Triangles amount. G: 101.0\n",
            "Clustering coeff. G: 0.009764240904618054\n",
            "\n",
            "\n",
            "Barabasi-Albert graph was generated \n",
            "Edge density. G: 0.0010699477825965756\n",
            "Number of connected components. G: 1\n",
            "Triangles amount. G: 97.0\n",
            "Clustering coeff. G: 0.009034415978869994\n",
            "\n",
            "\n",
            "Barabasi-Albert graph was generated \n",
            "Edge density. G: 0.0010699477825965756\n",
            "Number of connected components. G: 1\n",
            "Triangles amount. G: 67.0\n",
            "Clustering coeff. G: 0.005039704720228493\n",
            "\n",
            "\n",
            "Barabasi-Albert graph was generated \n",
            "Edge density. G: 0.0010699477825965756\n",
            "Number of connected components. G: 1\n",
            "Triangles amount. G: 123.0\n",
            "Clustering coeff. G: 0.012476660414918331\n",
            "\n",
            "\n",
            "Barabasi-Albert graph was generated \n",
            "Edge density. G: 0.0010699477825965756\n",
            "Number of connected components. G: 1\n",
            "Triangles amount. G: 95.0\n",
            "Clustering coeff. G: 0.007556952281662014\n",
            "\n",
            "\n",
            "Barabasi-Albert graph was generated \n",
            "Edge density. G: 0.0010699477825965756\n",
            "Number of connected components. G: 1\n",
            "Triangles amount. G: 109.0\n",
            "Clustering coeff. G: 0.010721011915204392\n",
            "\n",
            "\n",
            "Barabasi-Albert graph was generated \n",
            "Edge density. G: 0.0010699477825965756\n",
            "Number of connected components. G: 1\n",
            "Triangles amount. G: 112.0\n",
            "Clustering coeff. G: 0.012320266941888192\n",
            "\n",
            "\n",
            "Barabasi-Albert graph was generated \n",
            "Edge density. G: 0.0010699477825965756\n",
            "Number of connected components. G: 1\n",
            "Triangles amount. G: 94.0\n",
            "Clustering coeff. G: 0.00827314962846345\n",
            "\n",
            "\n",
            "Barabasi-Albert graph was generated \n",
            "Edge density. G: 0.0010699477825965756\n",
            "Number of connected components. G: 1\n",
            "Triangles amount. G: 103.0\n",
            "Clustering coeff. G: 0.009752411802633483\n",
            "\n",
            "\n",
            "Barabasi-Albert graph was generated \n",
            "Edge density. G: 0.0010699477825965756\n",
            "Number of connected components. G: 1\n",
            "Triangles amount. G: 128.0\n",
            "Clustering coeff. G: 0.012877396584410053\n"
          ]
        }
      ]
    },
    {
      "cell_type": "code",
      "source": [
        "print(barabasi_albert_estimations, barabasi_albert_estimations_var)"
      ],
      "metadata": {
        "colab": {
          "base_uri": "https://localhost:8080/"
        },
        "id": "1vqt2sNcHgvS",
        "outputId": "2ce5e75e-abd8-4edb-fd3c-e52bcf363b6b"
      },
      "execution_count": 26,
      "outputs": [
        {
          "output_type": "stream",
          "name": "stdout",
          "text": [
            "[1.06994778e-03 1.00000000e+00 1.03480000e+02 1.01911514e-02] [1.17549435e-36 0.00000000e+00 2.47569600e+02 3.56976032e-06]\n"
          ]
        }
      ]
    },
    {
      "cell_type": "code",
      "source": [
        "chung_lu_estimations, chung_lu_estimations_var = experements_numeric(50, G_ref, 'Chung Lu')"
      ],
      "metadata": {
        "colab": {
          "base_uri": "https://localhost:8080/"
        },
        "id": "RMbdPY-7eJgz",
        "outputId": "010f79cb-f262-4fb2-b51e-59f075b1b09a"
      },
      "execution_count": 27,
      "outputs": [
        {
          "output_type": "stream",
          "name": "stdout",
          "text": [
            "\n",
            "\n",
            "Chung Lu graph was generated \n",
            "Edge density. G: 0.0134032123011342\n",
            "Number of connected components. G: 1\n",
            "Triangles amount. G: 450706.0\n",
            "Clustering coeff. G: 0.11791016282828255\n",
            "\n",
            "\n",
            "Chung Lu graph was generated \n",
            "Edge density. G: 0.013419785285265365\n",
            "Number of connected components. G: 1\n",
            "Triangles amount. G: 461433.0\n",
            "Clustering coeff. G: 0.11780247397027127\n",
            "\n",
            "\n",
            "Chung Lu graph was generated \n",
            "Edge density. G: 0.013448560499602533\n",
            "Number of connected components. G: 2\n",
            "Triangles amount. G: 451884.0\n",
            "Clustering coeff. G: 0.11540546170685788\n",
            "\n",
            "\n",
            "Chung Lu graph was generated \n",
            "Edge density. G: 0.013399362076684254\n",
            "Number of connected components. G: 1\n",
            "Triangles amount. G: 455073.0\n",
            "Clustering coeff. G: 0.11428562380757266\n",
            "\n",
            "\n",
            "Chung Lu graph was generated \n",
            "Edge density. G: 0.013438075044934366\n",
            "Number of connected components. G: 1\n",
            "Triangles amount. G: 458660.0\n",
            "Clustering coeff. G: 0.11906890126513622\n",
            "\n",
            "\n",
            "Chung Lu graph was generated \n",
            "Edge density. G: 0.013441076419417518\n",
            "Number of connected components. G: 2\n",
            "Triangles amount. G: 455761.0\n",
            "Clustering coeff. G: 0.11795877867901508\n",
            "\n",
            "\n",
            "Chung Lu graph was generated \n",
            "Edge density. G: 0.013531926717090912\n",
            "Number of connected components. G: 1\n",
            "Triangles amount. G: 456677.0\n",
            "Clustering coeff. G: 0.11777193102103602\n",
            "\n",
            "\n",
            "Chung Lu graph was generated \n",
            "Edge density. G: 0.013571641840305362\n",
            "Number of connected components. G: 1\n",
            "Triangles amount. G: 453371.0\n",
            "Clustering coeff. G: 0.11809301548364291\n",
            "\n",
            "\n",
            "Chung Lu graph was generated \n",
            "Edge density. G: 0.013524506937495259\n",
            "Number of connected components. G: 1\n",
            "Triangles amount. G: 457170.0\n",
            "Clustering coeff. G: 0.12005146240137328\n",
            "\n",
            "\n",
            "Chung Lu graph was generated \n",
            "Edge density. G: 0.01336822815706605\n",
            "Number of connected components. G: 1\n",
            "Triangles amount. G: 453315.0\n",
            "Clustering coeff. G: 0.11961501716235569\n",
            "\n",
            "\n",
            "Chung Lu graph was generated \n",
            "Edge density. G: 0.013374441945870518\n",
            "Number of connected components. G: 1\n",
            "Triangles amount. G: 451762.0\n",
            "Clustering coeff. G: 0.11682700208680605\n",
            "\n",
            "\n",
            "Chung Lu graph was generated \n",
            "Edge density. G: 0.013426300816649089\n",
            "Number of connected components. G: 1\n",
            "Triangles amount. G: 448955.0\n",
            "Clustering coeff. G: 0.1162748287054523\n",
            "\n",
            "\n",
            "Chung Lu graph was generated \n",
            "Edge density. G: 0.013474770204522174\n",
            "Number of connected components. G: 1\n",
            "Triangles amount. G: 458817.0\n",
            "Clustering coeff. G: 0.11901089207238846\n",
            "\n",
            "\n",
            "Chung Lu graph was generated \n",
            "Edge density. G: 0.013500243096940461\n",
            "Number of connected components. G: 1\n",
            "Triangles amount. G: 451277.0\n",
            "Clustering coeff. G: 0.12067917135058473\n",
            "\n",
            "\n",
            "Chung Lu graph was generated \n",
            "Edge density. G: 0.01350120002868473\n",
            "Number of connected components. G: 1\n",
            "Triangles amount. G: 457011.0\n",
            "Clustering coeff. G: 0.12073254529370037\n",
            "\n",
            "\n",
            "Chung Lu graph was generated \n",
            "Edge density. G: 0.013471984891483145\n",
            "Number of connected components. G: 2\n",
            "Triangles amount. G: 450621.0\n",
            "Clustering coeff. G: 0.11868787245592614\n",
            "\n",
            "\n",
            "Chung Lu graph was generated \n",
            "Edge density. G: 0.013472362721448396\n",
            "Number of connected components. G: 1\n",
            "Triangles amount. G: 457427.0\n",
            "Clustering coeff. G: 0.11725148610074637\n",
            "\n",
            "\n",
            "Chung Lu graph was generated \n",
            "Edge density. G: 0.013559976360020926\n",
            "Number of connected components. G: 1\n",
            "Triangles amount. G: 464271.0\n",
            "Clustering coeff. G: 0.12121777472284115\n",
            "\n",
            "\n",
            "Chung Lu graph was generated \n",
            "Edge density. G: 0.013373579574697021\n",
            "Number of connected components. G: 1\n",
            "Triangles amount. G: 451084.0\n",
            "Clustering coeff. G: 0.11666355805839992\n",
            "\n",
            "\n",
            "Chung Lu graph was generated \n",
            "Edge density. G: 0.013492562540404419\n",
            "Number of connected components. G: 1\n",
            "Triangles amount. G: 460064.0\n",
            "Clustering coeff. G: 0.11902617055713456\n",
            "\n",
            "\n",
            "Chung Lu graph was generated \n",
            "Edge density. G: 0.013602481184377376\n",
            "Number of connected components. G: 1\n",
            "Triangles amount. G: 462387.0\n",
            "Clustering coeff. G: 0.11859858243665099\n",
            "\n",
            "\n",
            "Chung Lu graph was generated \n",
            "Edge density. G: 0.013494847427430465\n",
            "Number of connected components. G: 1\n",
            "Triangles amount. G: 456823.0\n",
            "Clustering coeff. G: 0.11848907027019673\n",
            "\n",
            "\n",
            "Chung Lu graph was generated \n",
            "Edge density. G: 0.013373491953780967\n",
            "Number of connected components. G: 1\n",
            "Triangles amount. G: 448479.0\n",
            "Clustering coeff. G: 0.11703765157741758\n",
            "\n",
            "\n",
            "Chung Lu graph was generated \n",
            "Edge density. G: 0.013384254161296969\n",
            "Number of connected components. G: 1\n",
            "Triangles amount. G: 454682.0\n",
            "Clustering coeff. G: 0.11929532261148153\n",
            "\n",
            "\n",
            "Chung Lu graph was generated \n",
            "Edge density. G: 0.013346634422340955\n",
            "Number of connected components. G: 1\n",
            "Triangles amount. G: 449088.0\n",
            "Clustering coeff. G: 0.11721545399507242\n",
            "\n",
            "\n",
            "Chung Lu graph was generated \n",
            "Edge density. G: 0.013364259427987761\n",
            "Number of connected components. G: 1\n",
            "Triangles amount. G: 456947.0\n",
            "Clustering coeff. G: 0.11582898168522532\n",
            "\n",
            "\n",
            "Chung Lu graph was generated \n",
            "Edge density. G: 0.013539270204691574\n",
            "Number of connected components. G: 2\n",
            "Triangles amount. G: 458226.0\n",
            "Clustering coeff. G: 0.1168324980376041\n",
            "\n",
            "\n",
            "Chung Lu graph was generated \n",
            "Edge density. G: 0.013529119286476269\n",
            "Number of connected components. G: 1\n",
            "Triangles amount. G: 451461.0\n",
            "Clustering coeff. G: 0.11739416442937889\n",
            "\n",
            "\n",
            "Chung Lu graph was generated \n",
            "Edge density. G: 0.013417578534790945\n",
            "Number of connected components. G: 1\n",
            "Triangles amount. G: 452078.0\n",
            "Clustering coeff. G: 0.11631026148020127\n",
            "\n",
            "\n",
            "Chung Lu graph was generated \n",
            "Edge density. G: 0.013474321686269497\n",
            "Number of connected components. G: 1\n",
            "Triangles amount. G: 454253.0\n",
            "Clustering coeff. G: 0.11871213334430383\n",
            "\n",
            "\n",
            "Chung Lu graph was generated \n",
            "Edge density. G: 0.013498919506494084\n",
            "Number of connected components. G: 1\n",
            "Triangles amount. G: 451042.0\n",
            "Clustering coeff. G: 0.11524587316165824\n",
            "\n",
            "\n",
            "Chung Lu graph was generated \n",
            "Edge density. G: 0.013521738332170529\n",
            "Number of connected components. G: 1\n",
            "Triangles amount. G: 457361.0\n",
            "Clustering coeff. G: 0.12078822519310224\n",
            "\n",
            "\n",
            "Chung Lu graph was generated \n",
            "Edge density. G: 0.013545486290984392\n",
            "Number of connected components. G: 1\n",
            "Triangles amount. G: 458889.0\n",
            "Clustering coeff. G: 0.11860631679513077\n",
            "\n",
            "\n",
            "Chung Lu graph was generated \n",
            "Edge density. G: 0.01355063416722559\n",
            "Number of connected components. G: 1\n",
            "Triangles amount. G: 459900.0\n",
            "Clustering coeff. G: 0.11487649897210814\n",
            "\n",
            "\n",
            "Chung Lu graph was generated \n",
            "Edge density. G: 0.013385409778983472\n",
            "Number of connected components. G: 1\n",
            "Triangles amount. G: 456185.0\n",
            "Clustering coeff. G: 0.12027795463188694\n",
            "\n",
            "\n",
            "Chung Lu graph was generated \n",
            "Edge density. G: 0.013529694365904111\n",
            "Number of connected components. G: 1\n",
            "Triangles amount. G: 455332.0\n",
            "Clustering coeff. G: 0.1166284240046193\n",
            "\n",
            "\n",
            "Chung Lu graph was generated \n",
            "Edge density. G: 0.013637028359612759\n",
            "Number of connected components. G: 1\n",
            "Triangles amount. G: 460017.0\n",
            "Clustering coeff. G: 0.1166000325429533\n",
            "\n",
            "\n",
            "Chung Lu graph was generated \n",
            "Edge density. G: 0.013538308699795228\n",
            "Number of connected components. G: 1\n",
            "Triangles amount. G: 456230.0\n",
            "Clustering coeff. G: 0.12009828726737565\n",
            "\n",
            "\n",
            "Chung Lu graph was generated \n",
            "Edge density. G: 0.013479686482016353\n",
            "Number of connected components. G: 1\n",
            "Triangles amount. G: 454523.0\n",
            "Clustering coeff. G: 0.11712577499377726\n",
            "\n",
            "\n",
            "Chung Lu graph was generated \n",
            "Edge density. G: 0.013402938697244633\n",
            "Number of connected components. G: 1\n",
            "Triangles amount. G: 454386.0\n",
            "Clustering coeff. G: 0.11654077000993254\n",
            "\n",
            "\n",
            "Chung Lu graph was generated \n",
            "Edge density. G: 0.013471792574619607\n",
            "Number of connected components. G: 1\n",
            "Triangles amount. G: 458718.0\n",
            "Clustering coeff. G: 0.119669749367157\n",
            "\n",
            "\n",
            "Chung Lu graph was generated \n",
            "Edge density. G: 0.013416492246221873\n",
            "Number of connected components. G: 1\n",
            "Triangles amount. G: 451373.0\n",
            "Clustering coeff. G: 0.11815235725589433\n",
            "\n",
            "\n",
            "Chung Lu graph was generated \n",
            "Edge density. G: 0.013583466983698242\n",
            "Number of connected components. G: 1\n",
            "Triangles amount. G: 456892.0\n",
            "Clustering coeff. G: 0.11986654215155902\n",
            "\n",
            "\n",
            "Chung Lu graph was generated \n",
            "Edge density. G: 0.013506870851866224\n",
            "Number of connected components. G: 1\n",
            "Triangles amount. G: 453646.0\n",
            "Clustering coeff. G: 0.11910990461607696\n",
            "\n",
            "\n",
            "Chung Lu graph was generated \n",
            "Edge density. G: 0.013390798257793332\n",
            "Number of connected components. G: 1\n",
            "Triangles amount. G: 452104.0\n",
            "Clustering coeff. G: 0.12112905398799788\n",
            "\n",
            "\n",
            "Chung Lu graph was generated \n",
            "Edge density. G: 0.013661420714399424\n",
            "Number of connected components. G: 1\n",
            "Triangles amount. G: 458002.0\n",
            "Clustering coeff. G: 0.12029377938451652\n",
            "\n",
            "\n",
            "Chung Lu graph was generated \n",
            "Edge density. G: 0.013442046468404042\n",
            "Number of connected components. G: 1\n",
            "Triangles amount. G: 448208.0\n",
            "Clustering coeff. G: 0.11294240294459877\n",
            "\n",
            "\n",
            "Chung Lu graph was generated \n",
            "Edge density. G: 0.013481805162853891\n",
            "Number of connected components. G: 1\n",
            "Triangles amount. G: 454151.0\n",
            "Clustering coeff. G: 0.1175867722052579\n",
            "\n",
            "\n",
            "Chung Lu graph was generated \n",
            "Edge density. G: 0.013529340942251777\n",
            "Number of connected components. G: 1\n",
            "Triangles amount. G: 456538.0\n",
            "Clustering coeff. G: 0.12035301422282234\n",
            "\n",
            "\n",
            "Chung Lu graph was generated \n",
            "Edge density. G: 0.013541152430096631\n",
            "Number of connected components. G: 1\n",
            "Triangles amount. G: 458357.0\n",
            "Clustering coeff. G: 0.11744719083586676\n"
          ]
        }
      ]
    },
    {
      "cell_type": "code",
      "source": [
        "print(chung_lu_estimations, chung_lu_estimations_var)"
      ],
      "metadata": {
        "colab": {
          "base_uri": "https://localhost:8080/"
        },
        "id": "xQqUNR9kHq7h",
        "outputId": "0c214337-065e-4ad8-a2dc-6c8664b0569c"
      },
      "execution_count": 28,
      "outputs": [
        {
          "output_type": "stream",
          "name": "stdout",
          "text": [
            "[1.34767017e-02 1.08000000e+00 4.55232340e+05 1.18067743e-01] [5.51604126e-09 7.36000000e-02 1.39212778e+07 3.44435020e-06]\n"
          ]
        }
      ]
    },
    {
      "cell_type": "code",
      "source": [
        "geom_chung_lu_estimations, geom_chung_lu_estimations_var = experements_numeric(50, G_ref, 'Geometric Chung Lu')"
      ],
      "metadata": {
        "id": "kYlGdaXgeQfV",
        "colab": {
          "base_uri": "https://localhost:8080/"
        },
        "outputId": "7d02b1d5-93b1-479b-8905-4075a6352f09"
      },
      "execution_count": 28,
      "outputs": [
        {
          "output_type": "stream",
          "name": "stdout",
          "text": [
            "\n",
            "\n",
            "Geometric Chung Lu graph was generated \n",
            "Edge density. G: 0.010499299131582065\n",
            "Number of connected components. G: 1\n",
            "Triangles amount. G: 208621.0\n",
            "Clustering coeff. G: 0.0907266517610574\n",
            "\n",
            "\n",
            "Geometric Chung Lu graph was generated \n",
            "Edge density. G: 0.010598771820617352\n",
            "Number of connected components. G: 1\n",
            "Triangles amount. G: 207423.0\n",
            "Clustering coeff. G: 0.08962188260170799\n",
            "\n",
            "\n",
            "Geometric Chung Lu graph was generated \n",
            "Edge density. G: 0.010564728851029959\n",
            "Number of connected components. G: 1\n",
            "Triangles amount. G: 203117.0\n",
            "Clustering coeff. G: 0.0922871376413497\n",
            "\n",
            "\n",
            "Geometric Chung Lu graph was generated \n",
            "Edge density. G: 0.010440419412259622\n",
            "Number of connected components. G: 2\n",
            "Triangles amount. G: 205687.0\n",
            "Clustering coeff. G: 0.08863739274592906\n",
            "\n",
            "\n",
            "Geometric Chung Lu graph was generated \n",
            "Edge density. G: 0.010643344043416294\n",
            "Number of connected components. G: 1\n",
            "Triangles amount. G: 206358.0\n",
            "Clustering coeff. G: 0.08875804049856242\n",
            "\n",
            "\n",
            "Geometric Chung Lu graph was generated \n",
            "Edge density. G: 0.010494913900283906\n",
            "Number of connected components. G: 1\n",
            "Triangles amount. G: 206925.0\n",
            "Clustering coeff. G: 0.09280127384988772\n",
            "\n",
            "\n",
            "Geometric Chung Lu graph was generated \n",
            "Edge density. G: 0.010551392020710707\n",
            "Number of connected components. G: 1\n",
            "Triangles amount. G: 208458.0\n",
            "Clustering coeff. G: 0.09079660880702438\n",
            "\n",
            "\n",
            "Geometric Chung Lu graph was generated \n",
            "Edge density. G: 0.010445405634554856\n",
            "Number of connected components. G: 1\n",
            "Triangles amount. G: 208943.0\n",
            "Clustering coeff. G: 0.08947633410428243\n",
            "\n",
            "\n",
            "Geometric Chung Lu graph was generated \n",
            "Edge density. G: 0.010473443196751548\n",
            "Number of connected components. G: 1\n",
            "Triangles amount. G: 202853.0\n",
            "Clustering coeff. G: 0.09011578851503901\n",
            "\n",
            "\n",
            "Geometric Chung Lu graph was generated \n",
            "Edge density. G: 0.010577071898848713\n",
            "Number of connected components. G: 1\n",
            "Triangles amount. G: 205137.0\n",
            "Clustering coeff. G: 0.09096108847948212\n",
            "\n",
            "\n",
            "Geometric Chung Lu graph was generated \n",
            "Edge density. G: 0.010550232981957142\n",
            "Number of connected components. G: 1\n",
            "Triangles amount. G: 209926.0\n",
            "Clustering coeff. G: 0.09071192631198911\n",
            "\n",
            "\n",
            "Geometric Chung Lu graph was generated \n",
            "Edge density. G: 0.01061940474163285\n",
            "Number of connected components. G: 1\n",
            "Triangles amount. G: 214892.0\n",
            "Clustering coeff. G: 0.09229742876551804\n",
            "\n",
            "\n",
            "Geometric Chung Lu graph was generated \n",
            "Edge density. G: 0.010487085337030832\n",
            "Number of connected components. G: 2\n",
            "Triangles amount. G: 206000.0\n",
            "Clustering coeff. G: 0.09234651902751281\n",
            "\n",
            "\n",
            "Geometric Chung Lu graph was generated \n",
            "Edge density. G: 0.01050681349886586\n",
            "Number of connected components. G: 3\n",
            "Triangles amount. G: 207709.0\n",
            "Clustering coeff. G: 0.08949462554647655\n",
            "\n",
            "\n",
            "Geometric Chung Lu graph was generated \n",
            "Edge density. G: 0.0105305132761949\n",
            "Number of connected components. G: 1\n",
            "Triangles amount. G: 204349.0\n",
            "Clustering coeff. G: 0.08884714959078259\n",
            "\n",
            "\n",
            "Geometric Chung Lu graph was generated \n",
            "Edge density. G: 0.0105140459992454\n",
            "Number of connected components. G: 1\n",
            "Triangles amount. G: 206731.0\n",
            "Clustering coeff. G: 0.09083747318488357\n",
            "\n",
            "\n",
            "Geometric Chung Lu graph was generated \n",
            "Edge density. G: 0.01049247970226752\n",
            "Number of connected components. G: 1\n",
            "Triangles amount. G: 210618.0\n",
            "Clustering coeff. G: 0.09120175856017855\n",
            "\n",
            "\n",
            "Geometric Chung Lu graph was generated \n",
            "Edge density. G: 0.010518441541958029\n",
            "Number of connected components. G: 1\n",
            "Triangles amount. G: 204398.0\n",
            "Clustering coeff. G: 0.09148329156237787\n",
            "\n",
            "\n",
            "Geometric Chung Lu graph was generated \n",
            "Edge density. G: 0.010591484190470391\n",
            "Number of connected components. G: 1\n",
            "Triangles amount. G: 202353.0\n",
            "Clustering coeff. G: 0.08789742566004656\n",
            "\n",
            "\n",
            "Geometric Chung Lu graph was generated \n",
            "Edge density. G: 0.010458720728810066\n",
            "Number of connected components. G: 1\n",
            "Triangles amount. G: 201020.0\n",
            "Clustering coeff. G: 0.08718059342709561\n",
            "\n",
            "\n",
            "Geometric Chung Lu graph was generated \n",
            "Edge density. G: 0.010410471074519723\n",
            "Number of connected components. G: 1\n",
            "Triangles amount. G: 201024.0\n",
            "Clustering coeff. G: 0.08813977326008059\n",
            "\n",
            "\n",
            "Geometric Chung Lu graph was generated \n",
            "Edge density. G: 0.0104500290508775\n",
            "Number of connected components. G: 1\n",
            "Triangles amount. G: 204086.0\n",
            "Clustering coeff. G: 0.09121167014749325\n",
            "\n",
            "\n",
            "Geometric Chung Lu graph was generated \n",
            "Edge density. G: 0.010599575127705298\n",
            "Number of connected components. G: 1\n",
            "Triangles amount. G: 207868.0\n",
            "Clustering coeff. G: 0.08870727840527823\n",
            "\n",
            "\n",
            "Geometric Chung Lu graph was generated \n",
            "Edge density. G: 0.010568037101431784\n",
            "Number of connected components. G: 1\n",
            "Triangles amount. G: 211861.0\n",
            "Clustering coeff. G: 0.08876781058226221\n",
            "\n",
            "\n",
            "Geometric Chung Lu graph was generated \n",
            "Edge density. G: 0.010533510549295818\n",
            "Number of connected components. G: 1\n",
            "Triangles amount. G: 205029.0\n",
            "Clustering coeff. G: 0.09000919181673908\n",
            "\n",
            "\n",
            "Geometric Chung Lu graph was generated \n",
            "Edge density. G: 0.010575386693462039\n",
            "Number of connected components. G: 2\n",
            "Triangles amount. G: 209703.0\n",
            "Clustering coeff. G: 0.08977242319661648\n",
            "\n",
            "\n",
            "Geometric Chung Lu graph was generated \n",
            "Edge density. G: 0.010535225011315083\n",
            "Number of connected components. G: 1\n",
            "Triangles amount. G: 214888.0\n",
            "Clustering coeff. G: 0.09200056715479363\n",
            "\n",
            "\n",
            "Geometric Chung Lu graph was generated \n",
            "Edge density. G: 0.010526878836195673\n",
            "Number of connected components. G: 2\n",
            "Triangles amount. G: 206315.0\n",
            "Clustering coeff. G: 0.08942036603163082\n",
            "\n",
            "\n",
            "Geometric Chung Lu graph was generated \n",
            "Edge density. G: 0.010592435529724322\n",
            "Number of connected components. G: 1\n",
            "Triangles amount. G: 208356.0\n",
            "Clustering coeff. G: 0.08750927195785907\n",
            "\n",
            "\n",
            "Geometric Chung Lu graph was generated \n",
            "Edge density. G: 0.010439138973246201\n",
            "Number of connected components. G: 1\n",
            "Triangles amount. G: 203606.0\n",
            "Clustering coeff. G: 0.09312432282326806\n",
            "\n",
            "\n",
            "Geometric Chung Lu graph was generated \n",
            "Edge density. G: 0.010439448694482252\n",
            "Number of connected components. G: 1\n",
            "Triangles amount. G: 204654.0\n",
            "Clustering coeff. G: 0.08977152925459952\n",
            "\n",
            "\n",
            "Geometric Chung Lu graph was generated \n",
            "Edge density. G: 0.010515515341703736\n",
            "Number of connected components. G: 1\n",
            "Triangles amount. G: 205922.0\n",
            "Clustering coeff. G: 0.09123810315921706\n",
            "\n",
            "\n",
            "Geometric Chung Lu graph was generated \n",
            "Edge density. G: 0.010461221020641003\n",
            "Number of connected components. G: 2\n",
            "Triangles amount. G: 209272.0\n",
            "Clustering coeff. G: 0.09094310602288655\n",
            "\n",
            "\n",
            "Geometric Chung Lu graph was generated \n",
            "Edge density. G: 0.010450197660091675\n",
            "Number of connected components. G: 2\n",
            "Triangles amount. G: 206138.0\n",
            "Clustering coeff. G: 0.0911252816088279\n",
            "\n",
            "\n",
            "Geometric Chung Lu graph was generated \n",
            "Edge density. G: 0.010540536633138095\n",
            "Number of connected components. G: 1\n",
            "Triangles amount. G: 209697.0\n",
            "Clustering coeff. G: 0.09041852588955629\n",
            "\n",
            "\n",
            "Geometric Chung Lu graph was generated \n",
            "Edge density. G: 0.01055986553371023\n",
            "Number of connected components. G: 1\n",
            "Triangles amount. G: 206991.0\n",
            "Clustering coeff. G: 0.08826580471602682\n",
            "\n",
            "\n",
            "Geometric Chung Lu graph was generated \n",
            "Edge density. G: 0.010490250062543923\n",
            "Number of connected components. G: 1\n",
            "Triangles amount. G: 205779.0\n",
            "Clustering coeff. G: 0.08975688620499343\n",
            "\n",
            "\n",
            "Geometric Chung Lu graph was generated \n",
            "Edge density. G: 0.010597617524404895\n",
            "Number of connected components. G: 1\n",
            "Triangles amount. G: 205146.0\n",
            "Clustering coeff. G: 0.08809188432871559\n",
            "\n",
            "\n",
            "Geometric Chung Lu graph was generated \n",
            "Edge density. G: 0.010522150605764601\n",
            "Number of connected components. G: 1\n",
            "Triangles amount. G: 208311.0\n",
            "Clustering coeff. G: 0.09224538692753621\n",
            "\n",
            "\n",
            "Geometric Chung Lu graph was generated \n",
            "Edge density. G: 0.010503166489947962\n",
            "Number of connected components. G: 1\n",
            "Triangles amount. G: 209262.0\n",
            "Clustering coeff. G: 0.09233847178527481\n",
            "\n",
            "\n",
            "Geometric Chung Lu graph was generated \n",
            "Edge density. G: 0.010554189252756897\n",
            "Number of connected components. G: 2\n",
            "Triangles amount. G: 206337.0\n",
            "Clustering coeff. G: 0.08854109569251456\n",
            "\n",
            "\n",
            "Geometric Chung Lu graph was generated \n",
            "Edge density. G: 0.010541556140152272\n",
            "Number of connected components. G: 1\n",
            "Triangles amount. G: 206384.0\n",
            "Clustering coeff. G: 0.08881446171857459\n",
            "\n",
            "\n",
            "Geometric Chung Lu graph was generated \n",
            "Edge density. G: 0.010517517324398687\n",
            "Number of connected components. G: 1\n",
            "Triangles amount. G: 207342.0\n",
            "Clustering coeff. G: 0.09091040336636787\n",
            "\n",
            "\n",
            "Geometric Chung Lu graph was generated \n",
            "Edge density. G: 0.01041561869552313\n",
            "Number of connected components. G: 2\n",
            "Triangles amount. G: 204373.0\n",
            "Clustering coeff. G: 0.08966678569255045\n",
            "\n",
            "\n",
            "Geometric Chung Lu graph was generated \n",
            "Edge density. G: 0.010604956124000453\n",
            "Number of connected components. G: 1\n",
            "Triangles amount. G: 210187.0\n",
            "Clustering coeff. G: 0.09096295451471473\n",
            "\n",
            "\n",
            "Geometric Chung Lu graph was generated \n",
            "Edge density. G: 0.010494576539658785\n",
            "Number of connected components. G: 1\n",
            "Triangles amount. G: 210068.0\n",
            "Clustering coeff. G: 0.09071707915186293\n",
            "\n",
            "\n",
            "Geometric Chung Lu graph was generated \n",
            "Edge density. G: 0.01043386384181012\n",
            "Number of connected components. G: 1\n",
            "Triangles amount. G: 204642.0\n",
            "Clustering coeff. G: 0.09005451476021369\n",
            "\n",
            "\n",
            "Geometric Chung Lu graph was generated \n",
            "Edge density. G: 0.010659591615276291\n",
            "Number of connected components. G: 1\n",
            "Triangles amount. G: 206680.0\n",
            "Clustering coeff. G: 0.08690628707426505\n",
            "\n",
            "\n",
            "Geometric Chung Lu graph was generated \n",
            "Edge density. G: 0.010393968806594107\n",
            "Number of connected components. G: 1\n",
            "Triangles amount. G: 207238.0\n",
            "Clustering coeff. G: 0.08935501017821247\n",
            "\n",
            "\n",
            "Geometric Chung Lu graph was generated \n",
            "Edge density. G: 0.010559240539098534\n",
            "Number of connected components. G: 1\n",
            "Triangles amount. G: 207697.0\n",
            "Clustering coeff. G: 0.08974434365112614\n"
          ]
        }
      ]
    },
    {
      "cell_type": "code",
      "source": [
        "print(geom_chung_lu_estimations, geom_chung_lu_estimations_var)"
      ],
      "metadata": {
        "id": "dgDfo0EheXDi",
        "colab": {
          "base_uri": "https://localhost:8080/"
        },
        "outputId": "b00bf8cc-6942-47e3-da3e-61f7e33dbdd9"
      },
      "execution_count": 29,
      "outputs": [
        {
          "output_type": "stream",
          "name": "stdout",
          "text": [
            "[1.05208750e-02 1.20000000e+00 2.06927480e+05 9.01002196e-02] [3.88379287e-09 2.00000000e-01 8.48082493e+06 2.27321559e-06]\n"
          ]
        }
      ]
    },
    {
      "cell_type": "markdown",
      "source": [
        "Reference graph"
      ],
      "metadata": {
        "id": "MFyY7aT3voxK"
      }
    },
    {
      "cell_type": "code",
      "source": [
        "print('Optic lobe graph: ')\n",
        "print(calculate_edge_density(G_ref), calculate_number_of_connected_components(G_ref), \n",
        "      calculate_triangles_amount(G_ref), calculate_clustering_coeff(G_ref))"
      ],
      "metadata": {
        "colab": {
          "base_uri": "https://localhost:8080/"
        },
        "id": "PNlS7zxwvoFN",
        "outputId": "da4d0ea3-bafa-4aa8-82be-dd5b6dccb17c"
      },
      "execution_count": 58,
      "outputs": [
        {
          "output_type": "stream",
          "name": "stdout",
          "text": [
            "Optic lobe graph: \n",
            "0.012760340716731862 5 673729.0 0.2945832540407661\n"
          ]
        }
      ]
    },
    {
      "cell_type": "markdown",
      "source": [
        "## Vectors and distributions"
      ],
      "metadata": {
        "id": "c4t7LRGKu0VX"
      }
    },
    {
      "cell_type": "markdown",
      "source": [
        "Erdos-Renyi"
      ],
      "metadata": {
        "id": "yscPAI0TxUnE"
      }
    },
    {
      "cell_type": "code",
      "source": [
        "erdos_renyi_pagerank = estimate_vector_parameters(G_ref, 'Erdos-Renyi', 'PageRank', optic_graph['weight'])\n",
        "draw_hist(erdos_renyi_pagerank, 'Erdos-Renyi. PageRank', 100)"
      ],
      "metadata": {
        "colab": {
          "base_uri": "https://localhost:8080/",
          "height": 281
        },
        "id": "-mZTh6Ipu3tF",
        "outputId": "cd4cd4b6-a70d-4948-ed27-935fbba2447c"
      },
      "execution_count": 59,
      "outputs": [
        {
          "output_type": "display_data",
          "data": {
            "text/plain": [
              "<Figure size 432x288 with 1 Axes>"
            ],
            "image/png": "[encoded data removed]"
          },
          "metadata": {
            "needs_background": "light"
          }
        }
      ]
    },
    {
      "cell_type": "code",
      "source": [
        "erdos_renyi_eigenvalues = estimate_vector_parameters(G_ref, 'Erdos-Renyi', 'Eigenvalues', optic_graph['weight'])\n",
        "draw_hist(erdos_renyi_eigenvalues, 'Erdos-Renyi. Eigenvalues', 100)"
      ],
      "metadata": {
        "colab": {
          "base_uri": "https://localhost:8080/",
          "height": 333
        },
        "id": "NN8novUhw9bR",
        "outputId": "9f10ef7b-07a3-4091-ab74-62ccd3aac0d4"
      },
      "execution_count": 60,
      "outputs": [
        {
          "output_type": "stream",
          "name": "stdout",
          "text": [
            "\n",
            "\n",
            "Erdos-Renyi graph was generated \n"
          ]
        },
        {
          "output_type": "display_data",
          "data": {
            "text/plain": [
              "<Figure size 432x288 with 1 Axes>"
            ],
            "image/png": "[encoded data removed]"
          },
          "metadata": {
            "needs_background": "light"
          }
        }
      ]
    },
    {
      "cell_type": "code",
      "source": [
        "erdos_renyi_weights = estimate_vector_parameters(G_ref, 'Erdos-Renyi', 'Weights', optic_graph['weight'])\n",
        "draw_hist(erdos_renyi_weights, 'Erdos-Renyi. Weights', 100)"
      ],
      "metadata": {
        "colab": {
          "base_uri": "https://localhost:8080/",
          "height": 333
        },
        "id": "YJTHuUUtxCiG",
        "outputId": "947b5e97-eb2d-4adf-a528-1be96ba2568a"
      },
      "execution_count": 61,
      "outputs": [
        {
          "output_type": "stream",
          "name": "stdout",
          "text": [
            "\n",
            "\n",
            "Erdos-Renyi graph was generated \n"
          ]
        },
        {
          "output_type": "display_data",
          "data": {
            "text/plain": [
              "<Figure size 432x288 with 1 Axes>"
            ],
            "image/png": "[encoded data removed]"
          },
          "metadata": {
            "needs_background": "light"
          }
        }
      ]
    },
    {
      "cell_type": "code",
      "source": [
        "erdos_renyi_degrees = estimate_vector_parameters(G_ref, 'Erdos-Renyi', 'Degrees', optic_graph['weight'])\n",
        "draw_hist(erdos_renyi_degrees, 'Erdos-Renyi. Degrees', 100)"
      ],
      "metadata": {
        "colab": {
          "base_uri": "https://localhost:8080/",
          "height": 333
        },
        "id": "cojWxC_dxGhE",
        "outputId": "3050ce82-932d-4929-d234-ea71d58f3ccd"
      },
      "execution_count": 62,
      "outputs": [
        {
          "output_type": "stream",
          "name": "stdout",
          "text": [
            "\n",
            "\n",
            "Erdos-Renyi graph was generated \n"
          ]
        },
        {
          "output_type": "display_data",
          "data": {
            "text/plain": [
              "<Figure size 432x288 with 1 Axes>"
            ],
            "image/png": "[encoded data removed]"
          },
          "metadata": {
            "needs_background": "light"
          }
        }
      ]
    },
    {
      "cell_type": "markdown",
      "source": [
        "Geometric"
      ],
      "metadata": {
        "id": "y62uXAkjxW_B"
      }
    },
    {
      "cell_type": "code",
      "source": [
        "geometric_pagerank = estimate_vector_parameters(G_ref, 'Geometric', 'PageRank', optic_graph['weight'])\n",
        "draw_hist(geometric_pagerank, 'Geometric. PageRank', 100)"
      ],
      "metadata": {
        "colab": {
          "base_uri": "https://localhost:8080/",
          "height": 333
        },
        "id": "nD5-PM1ExTod",
        "outputId": "3111ece9-0a61-4971-b877-de3aac4e4812"
      },
      "execution_count": 63,
      "outputs": [
        {
          "output_type": "stream",
          "name": "stdout",
          "text": [
            "\n",
            "\n",
            "Geometric graph was generated \n"
          ]
        },
        {
          "output_type": "display_data",
          "data": {
            "text/plain": [
              "<Figure size 432x288 with 1 Axes>"
            ],
            "image/png": "[encoded data removed]"
          },
          "metadata": {
            "needs_background": "light"
          }
        }
      ]
    },
    {
      "cell_type": "code",
      "source": [
        "geometric_eigenvalues = estimate_vector_parameters(G_ref, 'Geometric', 'Eigenvalues', optic_graph['weight'])\n",
        "draw_hist(geometric_eigenvalues, 'Geometric. Eigenvalues', 100)"
      ],
      "metadata": {
        "colab": {
          "base_uri": "https://localhost:8080/",
          "height": 333
        },
        "id": "Y3C-sPYMxTyv",
        "outputId": "60d0a022-7a6d-4c39-d8a2-6d36cc8cc540"
      },
      "execution_count": 64,
      "outputs": [
        {
          "output_type": "stream",
          "name": "stdout",
          "text": [
            "\n",
            "\n",
            "Geometric graph was generated \n"
          ]
        },
        {
          "output_type": "display_data",
          "data": {
            "text/plain": [
              "<Figure size 432x288 with 1 Axes>"
            ],
            "image/png": "[encoded data removed]"
          },
          "metadata": {
            "needs_background": "light"
          }
        }
      ]
    },
    {
      "cell_type": "code",
      "source": [
        "geometric_weights = estimate_vector_parameters(G_ref, 'Geometric', 'Weights', optic_graph['weight'])\n",
        "draw_hist(geometric_weights, 'Geometric. Weights', 100)"
      ],
      "metadata": {
        "colab": {
          "base_uri": "https://localhost:8080/",
          "height": 333
        },
        "id": "cEdmLM8pxpAS",
        "outputId": "273702f3-fa75-4af1-efa8-ecaacd8b3c85"
      },
      "execution_count": 65,
      "outputs": [
        {
          "output_type": "stream",
          "name": "stdout",
          "text": [
            "\n",
            "\n",
            "Geometric graph was generated \n"
          ]
        },
        {
          "output_type": "display_data",
          "data": {
            "text/plain": [
              "<Figure size 432x288 with 1 Axes>"
            ],
            "image/png": "[encoded data removed]"
          },
          "metadata": {
            "needs_background": "light"
          }
        }
      ]
    },
    {
      "cell_type": "code",
      "source": [
        "geometric_degrees = estimate_vector_parameters(G_ref, 'Geometric', 'Degrees', optic_graph['weight'])\n",
        "draw_hist(geometric_degrees, 'Geometric. Degrees', 100)"
      ],
      "metadata": {
        "colab": {
          "base_uri": "https://localhost:8080/",
          "height": 333
        },
        "id": "qeqGNa0yxvfU",
        "outputId": "0c0d1f98-057d-4796-fd86-789c43e27923"
      },
      "execution_count": 66,
      "outputs": [
        {
          "output_type": "stream",
          "name": "stdout",
          "text": [
            "\n",
            "\n",
            "Geometric graph was generated \n"
          ]
        },
        {
          "output_type": "display_data",
          "data": {
            "text/plain": [
              "<Figure size 432x288 with 1 Axes>"
            ],
            "image/png": "[encoded data removed]"
          },
          "metadata": {
            "needs_background": "light"
          }
        }
      ]
    },
    {
      "cell_type": "markdown",
      "source": [
        "Barabasi-Albert"
      ],
      "metadata": {
        "id": "G64M8aiRxz8p"
      }
    },
    {
      "cell_type": "code",
      "source": [
        "barabasi_albert_pagerank = estimate_vector_parameters(G_ref, 'Barabasi-Albert', 'PageRank', optic_graph['weight'])\n",
        "draw_hist(barabasi_albert_pagerank, 'Barabasi-Albert. PageRank', 100)"
      ],
      "metadata": {
        "colab": {
          "base_uri": "https://localhost:8080/",
          "height": 333
        },
        "id": "r78T0bxSx3Ms",
        "outputId": "d71794ce-17d0-4473-8a5c-0e6e855e7205"
      },
      "execution_count": 68,
      "outputs": [
        {
          "output_type": "stream",
          "name": "stdout",
          "text": [
            "\n",
            "\n",
            "Barabasi-Albert graph was generated \n"
          ]
        },
        {
          "output_type": "display_data",
          "data": {
            "text/plain": [
              "<Figure size 432x288 with 1 Axes>"
            ],
            "image/png": "[encoded data removed]"
          },
          "metadata": {
            "needs_background": "light"
          }
        }
      ]
    },
    {
      "cell_type": "code",
      "source": [
        "barabasi_albert_eigenvalues = estimate_vector_parameters(G_ref, 'Barabasi-Albert', 'Eigenvalues', optic_graph['weight'])\n",
        "draw_hist(barabasi_albert_eigenvalues, 'Barabasi-Albert. Eigenvalues', 100)"
      ],
      "metadata": {
        "colab": {
          "base_uri": "https://localhost:8080/",
          "height": 437
        },
        "id": "Uu9xl1kAx3WE",
        "outputId": "73d6d3da-ca9b-4973-b4d2-7f0174716e2d"
      },
      "execution_count": 69,
      "outputs": [
        {
          "output_type": "stream",
          "name": "stdout",
          "text": [
            "\n",
            "\n",
            "Barabasi-Albert graph was generated \n"
          ]
        },
        {
          "output_type": "stream",
          "name": "stderr",
          "text": [
            "/usr/local/lib/python3.7/dist-packages/numpy/lib/histograms.py:852: ComplexWarning: Casting complex values to real discards the imaginary part\n",
            "  indices = f_indices.astype(np.intp)\n",
            "/usr/local/lib/python3.7/dist-packages/matplotlib/transforms.py:789: ComplexWarning: Casting complex values to real discards the imaginary part\n",
            "  points = np.array(args, dtype=float).reshape(2, 2)\n",
            "/usr/local/lib/python3.7/dist-packages/matplotlib/transforms.py:1969: ComplexWarning: Casting complex values to real discards the imaginary part\n",
            "  x, y = float(x), float(y)\n"
          ]
        },
        {
          "output_type": "display_data",
          "data": {
            "text/plain": [
              "<Figure size 432x288 with 1 Axes>"
            ],
            "image/png": "[encoded data removed]"
          },
          "metadata": {
            "needs_background": "light"
          }
        }
      ]
    },
    {
      "cell_type": "code",
      "source": [
        "barabasi_albert_weights = estimate_vector_parameters(G_ref, 'Barabasi-Albert', 'Weights', optic_graph['weight'])\n",
        "draw_hist(barabasi_albert_weights, 'Barabasi-Albert. Weights', 100)"
      ],
      "metadata": {
        "colab": {
          "base_uri": "https://localhost:8080/",
          "height": 333
        },
        "id": "zW-Jib_zx3d2",
        "outputId": "c957c7f1-2c5b-4cfb-c70f-a3250099a36d"
      },
      "execution_count": 70,
      "outputs": [
        {
          "output_type": "stream",
          "name": "stdout",
          "text": [
            "\n",
            "\n",
            "Barabasi-Albert graph was generated \n"
          ]
        },
        {
          "output_type": "display_data",
          "data": {
            "text/plain": [
              "<Figure size 432x288 with 1 Axes>"
            ],
            "image/png": "[encoded data removed]"
          },
          "metadata": {
            "needs_background": "light"
          }
        }
      ]
    },
    {
      "cell_type": "code",
      "source": [
        "barabasi_albert_degrees = estimate_vector_parameters(G_ref, 'Barabasi-Albert', 'Degrees', optic_graph['weight'])\n",
        "draw_hist(barabasi_albert_degrees, 'Barabasi-Albert. Degrees', 100)"
      ],
      "metadata": {
        "colab": {
          "base_uri": "https://localhost:8080/",
          "height": 333
        },
        "id": "TKDwD5Nux3pV",
        "outputId": "b5b1c44a-7f40-43e8-fb99-37479504e14c"
      },
      "execution_count": 71,
      "outputs": [
        {
          "output_type": "stream",
          "name": "stdout",
          "text": [
            "\n",
            "\n",
            "Barabasi-Albert graph was generated \n"
          ]
        },
        {
          "output_type": "display_data",
          "data": {
            "text/plain": [
              "<Figure size 432x288 with 1 Axes>"
            ],
            "image/png": "[encoded data removed]"
          },
          "metadata": {
            "needs_background": "light"
          }
        }
      ]
    },
    {
      "cell_type": "markdown",
      "source": [
        "Chung Lu"
      ],
      "metadata": {
        "id": "nPphy4jRyPMZ"
      }
    },
    {
      "cell_type": "code",
      "source": [
        "chung_lu_pagerank = estimate_vector_parameters(G_ref, 'Chung Lu', 'PageRank', optic_graph['weight'])\n",
        "draw_hist(chung_lu_pagerank, 'Chung Lu. PageRank', 100)"
      ],
      "metadata": {
        "colab": {
          "base_uri": "https://localhost:8080/",
          "height": 333
        },
        "id": "NSCoWG2RyRBH",
        "outputId": "7992c0e8-d16f-4bad-9f8c-74a881b4442c"
      },
      "execution_count": 72,
      "outputs": [
        {
          "output_type": "stream",
          "name": "stdout",
          "text": [
            "\n",
            "\n",
            "Chung Lu graph was generated \n"
          ]
        },
        {
          "output_type": "display_data",
          "data": {
            "text/plain": [
              "<Figure size 432x288 with 1 Axes>"
            ],
            "image/png": "[encoded data removed]"
          },
          "metadata": {
            "needs_background": "light"
          }
        }
      ]
    },
    {
      "cell_type": "code",
      "source": [
        "chung_lu_eigenvalues = estimate_vector_parameters(G_ref, 'Chung Lu', 'Eigenvalues', optic_graph['weight'])\n",
        "draw_hist(chung_lu_eigenvalues, 'Chung Lu. Eigenvalues', 100)"
      ],
      "metadata": {
        "colab": {
          "base_uri": "https://localhost:8080/",
          "height": 437
        },
        "id": "0X6yJQIyycLM",
        "outputId": "00efffbe-9365-4219-a748-a6c40d3f4456"
      },
      "execution_count": 73,
      "outputs": [
        {
          "output_type": "stream",
          "name": "stdout",
          "text": [
            "\n",
            "\n",
            "Chung Lu graph was generated \n"
          ]
        },
        {
          "output_type": "stream",
          "name": "stderr",
          "text": [
            "/usr/local/lib/python3.7/dist-packages/numpy/lib/histograms.py:852: ComplexWarning: Casting complex values to real discards the imaginary part\n",
            "  indices = f_indices.astype(np.intp)\n",
            "/usr/local/lib/python3.7/dist-packages/matplotlib/transforms.py:789: ComplexWarning: Casting complex values to real discards the imaginary part\n",
            "  points = np.array(args, dtype=float).reshape(2, 2)\n",
            "/usr/local/lib/python3.7/dist-packages/matplotlib/transforms.py:1969: ComplexWarning: Casting complex values to real discards the imaginary part\n",
            "  x, y = float(x), float(y)\n"
          ]
        },
        {
          "output_type": "display_data",
          "data": {
            "text/plain": [
              "<Figure size 432x288 with 1 Axes>"
            ],
            "image/png": "[encoded data removed]"
          },
          "metadata": {
            "needs_background": "light"
          }
        }
      ]
    },
    {
      "cell_type": "code",
      "source": [
        "chung_lu_weights = estimate_vector_parameters(G_ref, 'Chung Lu', 'Weights', optic_graph['weight'])\n",
        "draw_hist(chung_lu_weights, 'Chung Lu. Weights', 100)"
      ],
      "metadata": {
        "colab": {
          "base_uri": "https://localhost:8080/",
          "height": 333
        },
        "id": "ZWY0GHnRykBI",
        "outputId": "4214126e-ee3d-4542-cbcd-f29a7a0a4763"
      },
      "execution_count": 74,
      "outputs": [
        {
          "output_type": "stream",
          "name": "stdout",
          "text": [
            "\n",
            "\n",
            "Chung Lu graph was generated \n"
          ]
        },
        {
          "output_type": "display_data",
          "data": {
            "text/plain": [
              "<Figure size 432x288 with 1 Axes>"
            ],
            "image/png": "[encoded data removed]"
          },
          "metadata": {
            "needs_background": "light"
          }
        }
      ]
    },
    {
      "cell_type": "code",
      "source": [
        "chung_lu_degrees = estimate_vector_parameters(G_ref, 'Chung Lu', 'Degrees', optic_graph['weight'])\n",
        "draw_hist(chung_lu_degrees, 'Chung Lu. Degrees', 100)"
      ],
      "metadata": {
        "colab": {
          "base_uri": "https://localhost:8080/",
          "height": 333
        },
        "id": "Msmbsmpjyo-f",
        "outputId": "486a15f4-03ab-4d74-c68b-eaee3b988181"
      },
      "execution_count": 75,
      "outputs": [
        {
          "output_type": "stream",
          "name": "stdout",
          "text": [
            "\n",
            "\n",
            "Chung Lu graph was generated \n"
          ]
        },
        {
          "output_type": "display_data",
          "data": {
            "text/plain": [
              "<Figure size 432x288 with 1 Axes>"
            ],
            "image/png": "[encoded data removed]"
          },
          "metadata": {
            "needs_background": "light"
          }
        }
      ]
    },
    {
      "cell_type": "markdown",
      "source": [
        "Geometric Chung Lu"
      ],
      "metadata": {
        "id": "EdDBe7jgytzH"
      }
    },
    {
      "cell_type": "code",
      "source": [
        "geom_chung_lu_pagerank = estimate_vector_parameters(G_ref, 'Geometric Chung Lu', 'PageRank', optic_graph['weight'])\n",
        "draw_hist(geom_chung_lu_pagerank, 'Geometric Chung Lu. PageRank', 100)"
      ],
      "metadata": {
        "colab": {
          "base_uri": "https://localhost:8080/",
          "height": 333
        },
        "id": "iE6y-CVLyxTP",
        "outputId": "f666893f-431c-4b31-bc3f-bc51383cf638"
      },
      "execution_count": 76,
      "outputs": [
        {
          "output_type": "stream",
          "name": "stdout",
          "text": [
            "\n",
            "\n",
            "Geometric Chung Lu graph was generated \n"
          ]
        },
        {
          "output_type": "display_data",
          "data": {
            "text/plain": [
              "<Figure size 432x288 with 1 Axes>"
            ],
            "image/png": "[encoded data removed]"
          },
          "metadata": {
            "needs_background": "light"
          }
        }
      ]
    },
    {
      "cell_type": "code",
      "source": [
        "geom_chung_lu_eigenvalues = estimate_vector_parameters(G_ref, 'Geometric Chung Lu', 'Eigenvalues', optic_graph['weight'])\n",
        "draw_hist(geom_chung_lu_eigenvalues, 'Geometric Chung Lu. Eigenvalues', 100)"
      ],
      "metadata": {
        "colab": {
          "base_uri": "https://localhost:8080/",
          "height": 437
        },
        "id": "25_K18Xvyy51",
        "outputId": "a17a6340-8858-45cc-9cf6-21b6aba3e0c0"
      },
      "execution_count": 77,
      "outputs": [
        {
          "output_type": "stream",
          "name": "stdout",
          "text": [
            "\n",
            "\n",
            "Geometric Chung Lu graph was generated \n"
          ]
        },
        {
          "output_type": "stream",
          "name": "stderr",
          "text": [
            "/usr/local/lib/python3.7/dist-packages/numpy/lib/histograms.py:852: ComplexWarning: Casting complex values to real discards the imaginary part\n",
            "  indices = f_indices.astype(np.intp)\n",
            "/usr/local/lib/python3.7/dist-packages/matplotlib/transforms.py:789: ComplexWarning: Casting complex values to real discards the imaginary part\n",
            "  points = np.array(args, dtype=float).reshape(2, 2)\n",
            "/usr/local/lib/python3.7/dist-packages/matplotlib/transforms.py:1969: ComplexWarning: Casting complex values to real discards the imaginary part\n",
            "  x, y = float(x), float(y)\n"
          ]
        },
        {
          "output_type": "display_data",
          "data": {
            "text/plain": [
              "<Figure size 432x288 with 1 Axes>"
            ],
            "image/png": "[encoded data removed]"
          },
          "metadata": {
            "needs_background": "light"
          }
        }
      ]
    },
    {
      "cell_type": "code",
      "source": [
        "geom_chung_lu_weights = estimate_vector_parameters(G_ref, 'Geometric Chung Lu', 'Weights', optic_graph['weight'])\n",
        "draw_hist(geom_chung_lu_weights, 'Geometric Chung Lu. Weights', 100)"
      ],
      "metadata": {
        "colab": {
          "base_uri": "https://localhost:8080/",
          "height": 333
        },
        "id": "GOuM3SU0y0P2",
        "outputId": "6f84cbff-9ead-4b33-ae96-b3a1d4950ac2"
      },
      "execution_count": 78,
      "outputs": [
        {
          "output_type": "stream",
          "name": "stdout",
          "text": [
            "\n",
            "\n",
            "Geometric Chung Lu graph was generated \n"
          ]
        },
        {
          "output_type": "display_data",
          "data": {
            "text/plain": [
              "<Figure size 432x288 with 1 Axes>"
            ],
            "image/png": "[encoded data removed]"
          },
          "metadata": {
            "needs_background": "light"
          }
        }
      ]
    },
    {
      "cell_type": "code",
      "source": [
        "geom_chung_lu_degrees = estimate_vector_parameters(G_ref, 'Geometric Chung Lu', 'Degrees', optic_graph['weight'])\n",
        "draw_hist(geom_chung_lu_degrees, 'Geometric Chung Lu. Degrees', 100)"
      ],
      "metadata": {
        "colab": {
          "base_uri": "https://localhost:8080/",
          "height": 333
        },
        "id": "bFwJyUrly2p-",
        "outputId": "a7037eff-cf50-4ea0-9ecc-ec11ba7fdd50"
      },
      "execution_count": 79,
      "outputs": [
        {
          "output_type": "stream",
          "name": "stdout",
          "text": [
            "\n",
            "\n",
            "Geometric Chung Lu graph was generated \n"
          ]
        },
        {
          "output_type": "display_data",
          "data": {
            "text/plain": [
              "<Figure size 432x288 with 1 Axes>"
            ],
            "image/png": "[encoded data removed]"
          },
          "metadata": {
            "needs_background": "light"
          }
        }
      ]
    },
    {
      "cell_type": "markdown",
      "source": [
        "# Saving graphs "
      ],
      "metadata": {
        "id": "ebrz9iEvzV07"
      }
    },
    {
      "cell_type": "code",
      "source": [
        "def get_edges(G_ref, model, weights):\n",
        "  \n",
        "  # generate a graph\n",
        "  points, edges = None, None\n",
        "  #weights = calculate_vector_of_weights(G_ref)\n",
        "\n",
        "  if model == 'Erdos-Renyi':\n",
        "    edges = get_erdos_renyi_graph(len(G_ref.nodes), calculate_edge_density(G_ref), weights)\n",
        "    \n",
        "  elif model == 'Geometric':\n",
        "    edges = get_geometric_graph(len(G_ref.nodes), np.max(list(nx.get_edge_attributes(G_ref,'weight').values())), calculate_edge_density(G_ref))\n",
        "    \n",
        "  elif model == 'Barabasi-Albert':\n",
        "    edges = get_barabasi_albert_graph(len(G_ref.nodes), weights)\n",
        "\n",
        "  elif model == 'Chung Lu':\n",
        "    edges = get_chung_lu_graph(calculate_degrees_vector(G_ref), weights)\n",
        "    \n",
        "  elif model == 'Geometric Chung Lu':\n",
        "    edges = get_geometric_chung_lu_graph(calculate_degrees_vector(G_ref), weights)\n",
        "\n",
        "  else:\n",
        "    print('Nonexistent model name')\n",
        "    return \n",
        "  \n",
        "  return edges"
      ],
      "metadata": {
        "id": "PdUwgWFh2OwV"
      },
      "execution_count": 80,
      "outputs": []
    },
    {
      "cell_type": "code",
      "source": [
        "np.savetxt(r'erdos_renyi_edges.txt', get_edges(G_ref, 'Erdos-Renyi', optic_graph['weight']), fmt='%s')"
      ],
      "metadata": {
        "id": "PVaThjW3zZ1L"
      },
      "execution_count": 81,
      "outputs": []
    },
    {
      "cell_type": "code",
      "source": [
        "np.savetxt(r'geometric_edges.txt', get_edges(G_ref, 'Geometric', optic_graph['weight']), fmt='%s')"
      ],
      "metadata": {
        "id": "X0cHY6oJ23dh"
      },
      "execution_count": 85,
      "outputs": []
    },
    {
      "cell_type": "code",
      "source": [
        "np.savetxt(r'barabasi_albert_edges.txt', get_edges(G_ref, 'Barabasi-Albert', optic_graph['weight']), fmt='%s')"
      ],
      "metadata": {
        "id": "QbUXsJrv268g"
      },
      "execution_count": 86,
      "outputs": []
    },
    {
      "cell_type": "code",
      "source": [
        "np.savetxt(r'chung_lu_edges.txt', get_edges(G_ref, 'Chung Lu', optic_graph['weight']), fmt='%s')"
      ],
      "metadata": {
        "id": "3f3joB3g284-"
      },
      "execution_count": 87,
      "outputs": []
    },
    {
      "cell_type": "code",
      "source": [
        "np.savetxt(r'geom_chung_lu_edges.txt', get_edges(G_ref, 'Geometric Chung Lu', optic_graph['weight']), fmt='%s')"
      ],
      "metadata": {
        "id": "n6tZbop53AYd"
      },
      "execution_count": 88,
      "outputs": []
    },
    {
      "cell_type": "code",
      "source": [
        ""
      ],
      "metadata": {
        "id": "-KuMbeLaXnXz"
      },
      "execution_count": null,
      "outputs": []
    }
  ]
}